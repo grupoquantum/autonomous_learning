{
 "cells": [
  {
   "cell_type": "markdown",
   "metadata": {},
   "source": [
    "<h3>Método de Monte Carlo na Geração de Jogos da Loteria</h3>"
   ]
  },
  {
   "cell_type": "markdown",
   "metadata": {},
   "source": [
    "<h4>Declaração de Variáveis e Visualização dos Dados</h4>"
   ]
  },
  {
   "cell_type": "code",
   "execution_count": 2,
   "metadata": {},
   "outputs": [
    {
     "name": "stdout",
     "output_type": "stream",
     "text": [
      "╒════════════╤════════════╤══════════╤══════════╤══════════╤══════════╤══════════╤══════════╕\n",
      "│   Concurso │ Data       │   bola 1 │   bola 2 │   bola 3 │   bola 4 │   bola 5 │   bola 6 │\n",
      "╞════════════╪════════════╪══════════╪══════════╪══════════╪══════════╪══════════╪══════════╡\n",
      "│       2513 │ 24/08/2022 │       50 │       21 │       13 │       46 │       35 │       19 │\n",
      "├────────────┼────────────┼──────────┼──────────┼──────────┼──────────┼──────────┼──────────┤\n",
      "│       2512 │ 20/08/2022 │       47 │       52 │       10 │       49 │       34 │        7 │\n",
      "├────────────┼────────────┼──────────┼──────────┼──────────┼──────────┼──────────┼──────────┤\n",
      "│       2511 │ 17/08/2022 │       49 │       39 │        4 │       15 │       41 │       10 │\n",
      "├────────────┼────────────┼──────────┼──────────┼──────────┼──────────┼──────────┼──────────┤\n",
      "│       2510 │ 13/08/2022 │       25 │       32 │       13 │       57 │        8 │       44 │\n",
      "├────────────┼────────────┼──────────┼──────────┼──────────┼──────────┼──────────┼──────────┤\n",
      "│       2509 │ 10/08/2022 │       50 │        8 │       37 │       59 │       39 │       60 │\n",
      "├────────────┼────────────┼──────────┼──────────┼──────────┼──────────┼──────────┼──────────┤\n",
      "│       2508 │ 06/08/2022 │       51 │       45 │       41 │       53 │       58 │       48 │\n",
      "├────────────┼────────────┼──────────┼──────────┼──────────┼──────────┼──────────┼──────────┤\n",
      "│       2507 │ 04/08/2022 │        4 │       34 │        6 │       35 │       12 │       53 │\n",
      "├────────────┼────────────┼──────────┼──────────┼──────────┼──────────┼──────────┼──────────┤\n",
      "│       2506 │ 02/08/2022 │       21 │       44 │       40 │       34 │       22 │       29 │\n",
      "├────────────┼────────────┼──────────┼──────────┼──────────┼──────────┼──────────┼──────────┤\n",
      "│       2505 │ 30/07/2022 │       43 │       26 │        5 │       51 │        3 │       19 │\n",
      "├────────────┼────────────┼──────────┼──────────┼──────────┼──────────┼──────────┼──────────┤\n",
      "│       2504 │ 27/07/2022 │       42 │       14 │       41 │       55 │       44 │       33 │\n",
      "╘════════════╧════════════╧══════════╧══════════╧══════════╧══════════╧══════════╧══════════╛\n"
     ]
    }
   ],
   "source": [
    "from Neuraline.Utilities.data import DataTable, DataExploration\n",
    "# declaração das variáveis\n",
    "data_table, data_exploration = DataTable(), DataExploration()\n",
    "url_path, sheet_name, url_save1, url_save2 = './mega_sena.xlsx', 'mega_sena_www.asloterias.com.br', './data.csv', './jogos.csv'\n",
    "titles = ['bola 1', 'bola 2', 'bola 3', 'bola 4', 'bola 5', 'bola 6']\n",
    "# visualização dos dados originais\n",
    "result = data_table.visualization_excel_inline(url_path, sheet_name=sheet_name, limit=10)"
   ]
  },
  {
   "cell_type": "markdown",
   "metadata": {},
   "source": [
    "<h4>Exploração e Análise dos Dados</h4>"
   ]
  },
  {
   "cell_type": "code",
   "execution_count": 3,
   "metadata": {},
   "outputs": [
    {
     "name": "stdout",
     "output_type": "stream",
     "text": [
      "╒══════════╤═══════════╤═══════════╤═══════════╤═════════════════════╤══════════════════════╤═════════════╤═════════╤═════════════╤════════╤═════════╕\n",
      "│ column   │   minimum │   maximum │   average │   lowest_repetition │   highest_repetition │   negatives │   zeros │   positives │   null │   empty │\n",
      "╞══════════╪═══════════╪═══════════╪═══════════╪═════════════════════╪══════════════════════╪═════════════╪═════════╪═════════════╪════════╪═════════╡\n",
      "│ bola 1   │         1 │        60 │   30.5245 │                  15 │                   28 │           0 │       0 │        2513 │      0 │       0 │\n",
      "├──────────┼───────────┼───────────┼───────────┼─────────────────────┼──────────────────────┼─────────────┼─────────┼─────────────┼────────┼─────────┤\n",
      "│ bola 2   │         1 │        60 │   30.1238 │                  60 │                    5 │           0 │       0 │        2513 │      0 │       0 │\n",
      "├──────────┼───────────┼───────────┼───────────┼─────────────────────┼──────────────────────┼─────────────┼─────────┼─────────────┼────────┼─────────┤\n",
      "│ bola 3   │         1 │        60 │   30.7143 │                  22 │                   27 │           0 │       0 │        2513 │      0 │       0 │\n",
      "├──────────┼───────────┼───────────┼───────────┼─────────────────────┼──────────────────────┼─────────────┼─────────┼─────────────┼────────┼─────────┤\n",
      "│ bola 4   │         1 │        60 │   30.8066 │                   3 │                   29 │           0 │       0 │        2513 │      0 │       0 │\n",
      "├──────────┼───────────┼───────────┼───────────┼─────────────────────┼──────────────────────┼─────────────┼─────────┼─────────────┼────────┼─────────┤\n",
      "│ bola 5   │         1 │        60 │   30.5714 │                  55 │                   35 │           0 │       0 │        2513 │      0 │       0 │\n",
      "├──────────┼───────────┼───────────┼───────────┼─────────────────────┼──────────────────────┼─────────────┼─────────┼─────────────┼────────┼─────────┤\n",
      "│ bola 6   │         1 │        60 │   30.3975 │                  21 │                   23 │           0 │       0 │        2513 │      0 │       0 │\n",
      "╘══════════╧═══════════╧═══════════╧═══════════╧═════════════════════╧══════════════════════╧═════════════╧═════════╧═════════════╧════════╧═════════╛\n"
     ]
    }
   ],
   "source": [
    "# geração da planilha descritiva com as informações estatísticas\n",
    "data_exploration.describeExcel(url_path, titles=titles, sheet_name=sheet_name)\n",
    "# exibição do conteúdo da planilha gerada\n",
    "result = data_table.visualization_excel_inline('./description.xlsx', sheet_name=sheet_name)"
   ]
  },
  {
   "cell_type": "markdown",
   "metadata": {},
   "source": [
    "<h4>Conversão dos Dados do Excel em Dados CSV</h4>"
   ]
  },
  {
   "cell_type": "code",
   "execution_count": 4,
   "metadata": {},
   "outputs": [
    {
     "data": {
      "text/plain": [
       "True"
      ]
     },
     "execution_count": 4,
     "metadata": {},
     "output_type": "execute_result"
    }
   ],
   "source": [
    "# criação da lista de entrada com a seleção dos atributos referentes as bolas sorteadas\n",
    "inputs = data_table.read_excel(url_path, titles=titles, sheet_name=sheet_name)\n",
    "# geração de um novo arquivo csv que contenha somente os valores das bolas sorteadas\n",
    "data_table.generation_csv(url_save1, titles=titles, data=inputs)"
   ]
  },
  {
   "cell_type": "markdown",
   "metadata": {},
   "source": [
    "<h4>Treinamento do Método de Monte Carlo com os Dados CSV Incluindo a Geração e Visualização dos Resultados</h4>"
   ]
  },
  {
   "cell_type": "code",
   "execution_count": 6,
   "metadata": {},
   "outputs": [
    {
     "name": "stdout",
     "output_type": "stream",
     "text": [
      "╒══════════╤══════════╤══════════╤══════════╤══════════╤══════════╕\n",
      "│   bola 1 │   bola 2 │   bola 3 │   bola 4 │   bola 5 │   bola 6 │\n",
      "╞══════════╪══════════╪══════════╪══════════╪══════════╪══════════╡\n",
      "│       32 │        5 │       26 │       27 │       36 │       24 │\n",
      "├──────────┼──────────┼──────────┼──────────┼──────────┼──────────┤\n",
      "│       42 │       14 │       56 │        3 │       27 │       17 │\n",
      "├──────────┼──────────┼──────────┼──────────┼──────────┼──────────┤\n",
      "│       33 │       17 │       57 │       60 │       24 │        8 │\n",
      "├──────────┼──────────┼──────────┼──────────┼──────────┼──────────┤\n",
      "│       31 │       18 │       34 │       56 │        6 │        6 │\n",
      "├──────────┼──────────┼──────────┼──────────┼──────────┼──────────┤\n",
      "│       15 │       22 │       19 │       59 │       35 │       44 │\n",
      "├──────────┼──────────┼──────────┼──────────┼──────────┼──────────┤\n",
      "│       49 │        5 │       53 │       30 │       32 │       30 │\n",
      "├──────────┼──────────┼──────────┼──────────┼──────────┼──────────┤\n",
      "│       12 │       45 │       13 │       42 │       29 │        5 │\n",
      "├──────────┼──────────┼──────────┼──────────┼──────────┼──────────┤\n",
      "│       34 │       46 │       26 │       34 │       23 │       19 │\n",
      "├──────────┼──────────┼──────────┼──────────┼──────────┼──────────┤\n",
      "│       49 │       37 │       11 │       56 │       47 │       23 │\n",
      "├──────────┼──────────┼──────────┼──────────┼──────────┼──────────┤\n",
      "│       16 │       15 │        4 │       53 │       55 │       33 │\n",
      "╘══════════╧══════════╧══════════╧══════════╧══════════╧══════════╛\n"
     ]
    }
   ],
   "source": [
    "from Neuraline.ArtificialIntelligence.MachineLearning.AutonomousLearning.monte_carlo import MonteCarlo\n",
    "monte_carlo = MonteCarlo()\n",
    "# treinamento do modelo\n",
    "monte_carlo.fitCSV(url_save1)\n",
    "# aplicação do método de monte carlo\n",
    "new_inputs = monte_carlo.method(predictions=10)\n",
    "# geração de um arquivo csv com os resultados preditivos\n",
    "data_table.generation_csv(url_save2, titles=titles, data=new_inputs)\n",
    "# visualização do resultado com os jogos que foram gerados\n",
    "result = data_table.visualization_csv_inline(url_save2)"
   ]
  }
 ],
 "metadata": {
  "kernelspec": {
   "display_name": "Python 3.10.4 64-bit",
   "language": "python",
   "name": "python3"
  },
  "language_info": {
   "codemirror_mode": {
    "name": "ipython",
    "version": 3
   },
   "file_extension": ".py",
   "mimetype": "text/x-python",
   "name": "python",
   "nbconvert_exporter": "python",
   "pygments_lexer": "ipython3",
   "version": "3.10.4"
  },
  "orig_nbformat": 4,
  "vscode": {
   "interpreter": {
    "hash": "916dbcbb3f70747c44a77c7bcd40155683ae19c65e1c03b4aa3499c5328201f1"
   }
  }
 },
 "nbformat": 4,
 "nbformat_minor": 2
}
