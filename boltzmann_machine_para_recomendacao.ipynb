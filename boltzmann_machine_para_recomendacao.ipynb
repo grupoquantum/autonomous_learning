{
 "cells": [
  {
   "cell_type": "markdown",
   "metadata": {},
   "source": [
    "<h3>Boltzmann Machine em uma Aplicação Real de Recomendação</h3>\n",
    "<p>Composições químicas na produção de vidros em uma fábrica especializada.</p>\n",
    "<ul>\n",
    "    <li><b>RI:</b> Índice de refração do vidro.</li>\n",
    "    <li><b>Na:</b> Percentual de Sódio com relação ao peso.</li>\n",
    "    <li><b>Mg:</b> Percentual de Magnésio com relação ao peso.</li>\n",
    "    <li><b>Al:</b> Percentual de Alumínio com relação ao peso.</li>\n",
    "    <li><b>Si:</b> Percentual de Silício com relação ao peso.</li>\n",
    "    <li><b>K:</b> Percentual de Potássio com relação ao peso.</li>\n",
    "    <li><b>Ca:</b> Percentual de Cálcio com relação ao peso.</li>\n",
    "    <li><b>Ba:</b> Percentual de Bário com relação ao peso.</li>\n",
    "    <li><b>Fe:</b> Percentual de Ferro com relação ao peso.</li>\n",
    "    <li>\n",
    "        <b>Type:</b> Função principal do vidro.\n",
    "        <ul>\n",
    "            <li><b>1:</b> Janela de construção processada.</li>\n",
    "            <li><b>2:</b> Janela de construção não processada.</li>\n",
    "            <li><b>3:</b> Janela de veículo processada.</li>\n",
    "            <li><b>4:</b> Função específica personalizada.</li>\n",
    "            <li><b>5:</b> Recipientes de diversos tipos.</li>\n",
    "            <li><b>6:</b> Talheres de cozinha.</li>\n",
    "            <li><b>7:</b> Faróis de diversos tipos.</li>\n",
    "        </ul>\n",
    "    </li>\n",
    "</ul>"
   ]
  },
  {
   "cell_type": "markdown",
   "metadata": {},
   "source": [
    "<h4>Exploração e Visualização dos Dados</h4>"
   ]
  },
  {
   "cell_type": "code",
   "execution_count": 1,
   "metadata": {},
   "outputs": [
    {
     "name": "stdout",
     "output_type": "stream",
     "text": [
      "╒═════════╤═══════╤══════╤══════╤═══════╤══════╤══════╤══════╤══════╤════════╕\n",
      "│      RI │    Na │   Mg │   Al │    Si │    K │   Ca │   Ba │   Fe │   Type │\n",
      "╞═════════╪═══════╪══════╪══════╪═══════╪══════╪══════╪══════╪══════╪════════╡\n",
      "│ 1.52101 │ 13.64 │ 4.49 │ 1.1  │ 71.78 │ 0.06 │ 8.75 │    0 │ 0    │      1 │\n",
      "├─────────┼───────┼──────┼──────┼───────┼──────┼──────┼──────┼──────┼────────┤\n",
      "│ 1.51761 │ 13.89 │ 3.6  │ 1.36 │ 72.73 │ 0.48 │ 7.83 │    0 │ 0    │      1 │\n",
      "├─────────┼───────┼──────┼──────┼───────┼──────┼──────┼──────┼──────┼────────┤\n",
      "│ 1.51618 │ 13.53 │ 3.55 │ 1.54 │ 72.99 │ 0.39 │ 7.78 │    0 │ 0    │      1 │\n",
      "├─────────┼───────┼──────┼──────┼───────┼──────┼──────┼──────┼──────┼────────┤\n",
      "│ 1.51766 │ 13.21 │ 3.69 │ 1.29 │ 72.61 │ 0.57 │ 8.22 │    0 │ 0    │      1 │\n",
      "├─────────┼───────┼──────┼──────┼───────┼──────┼──────┼──────┼──────┼────────┤\n",
      "│ 1.51742 │ 13.27 │ 3.62 │ 1.24 │ 73.08 │ 0.55 │ 8.07 │    0 │ 0    │      1 │\n",
      "├─────────┼───────┼──────┼──────┼───────┼──────┼──────┼──────┼──────┼────────┤\n",
      "│ 1.51596 │ 12.79 │ 3.61 │ 1.62 │ 72.97 │ 0.64 │ 8.07 │    0 │ 0.26 │      1 │\n",
      "├─────────┼───────┼──────┼──────┼───────┼──────┼──────┼──────┼──────┼────────┤\n",
      "│ 1.51743 │ 13.3  │ 3.6  │ 1.14 │ 73.09 │ 0.58 │ 8.17 │    0 │ 0    │      1 │\n",
      "├─────────┼───────┼──────┼──────┼───────┼──────┼──────┼──────┼──────┼────────┤\n",
      "│ 1.51756 │ 13.15 │ 3.61 │ 1.05 │ 73.24 │ 0.57 │ 8.24 │    0 │ 0    │      1 │\n",
      "├─────────┼───────┼──────┼──────┼───────┼──────┼──────┼──────┼──────┼────────┤\n",
      "│ 1.51918 │ 14.04 │ 3.58 │ 1.37 │ 72.08 │ 0.56 │ 8.3  │    0 │ 0    │      1 │\n",
      "├─────────┼───────┼──────┼──────┼───────┼──────┼──────┼──────┼──────┼────────┤\n",
      "│ 1.51755 │ 13    │ 3.6  │ 1.36 │ 72.99 │ 0.57 │ 8.4  │    0 │ 0.11 │      1 │\n",
      "╘═════════╧═══════╧══════╧══════╧═══════╧══════╧══════╧══════╧══════╧════════╛\n",
      "Tipos de vidro presentes: [1, 2, 3, 5, 6, 7]\n"
     ]
    }
   ],
   "source": [
    "from Neuraline.Utilities.data import DataTable, DataExploration\n",
    "data_table, data_exploration = DataTable(), DataExploration()\n",
    "url_path = './glass.csv'\n",
    "result = data_table.visualization_csv_inline(url_path=url_path, limit=10)\n",
    "types = data_exploration.getOutputTypesCSV(url_path=url_path, output_column='Type')\n",
    "print(f'Tipos de vidro presentes: {sorted(types)}')"
   ]
  },
  {
   "cell_type": "markdown",
   "metadata": {},
   "source": [
    "<h4>Algoritmo de Recomendação</h4>\n",
    "<p>Recomendação de fórmulas químicas para a produção de vidros semelhantes.</p>"
   ]
  },
  {
   "cell_type": "code",
   "execution_count": 2,
   "metadata": {},
   "outputs": [
    {
     "name": "stdout",
     "output_type": "stream",
     "text": [
      "True\n"
     ]
    }
   ],
   "source": [
    "from Neuraline.ArtificialIntelligence.MachineLearning.AutonomousLearning.boltzmann_machine import BoltzmannMachine\n",
    "boltzmann_machine = BoltzmannMachine()\n",
    "boltzmann_machine.fitCSV(url_path=url_path)\n",
    "\n",
    "base_glass = [1.51596, 12.79, 3.61, 1.62, 72.97, 0.64, 8.07, 0, 0.26, 1]\n",
    "titles = ['RI', 'Na', 'Mg', 'Al', 'Si', 'K', 'Ca', 'Ba', 'Fe', 'Type']\n",
    "n_recommendations = 50\n",
    "result = boltzmann_machine.predictCSV(inputs=[base_glass], recommendations=n_recommendations, titles=titles)\n",
    "print(result)"
   ]
  }
 ],
 "metadata": {
  "kernelspec": {
   "display_name": "Python 3.10.4 64-bit",
   "language": "python",
   "name": "python3"
  },
  "language_info": {
   "codemirror_mode": {
    "name": "ipython",
    "version": 3
   },
   "file_extension": ".py",
   "mimetype": "text/x-python",
   "name": "python",
   "nbconvert_exporter": "python",
   "pygments_lexer": "ipython3",
   "version": "3.10.4"
  },
  "orig_nbformat": 4,
  "vscode": {
   "interpreter": {
    "hash": "916dbcbb3f70747c44a77c7bcd40155683ae19c65e1c03b4aa3499c5328201f1"
   }
  }
 },
 "nbformat": 4,
 "nbformat_minor": 2
}
