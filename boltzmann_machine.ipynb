{
 "cells": [
  {
   "cell_type": "markdown",
   "metadata": {},
   "source": [
    "<h3>Boltzmann Machine</h3>\n",
    "<p>A Máquina de Boltzmann é uma arquitetura de rede neural recorrente onde todos os neurônios estão conectados entre si sem a propagação feedforward das redes convencionais.</p>"
   ]
  },
  {
   "cell_type": "markdown",
   "metadata": {},
   "source": [
    "<p><b>Arquitetura da Máquina de Boltzmann:</b></p>"
   ]
  },
  {
   "cell_type": "markdown",
   "metadata": {},
   "source": [
    "<div align=\"center\" style=\"background-color: white; height: 300px;\"><img src=\"boltzmann_machine.png\"></div>"
   ]
  },
  {
   "cell_type": "markdown",
   "metadata": {},
   "source": [
    "<p><b>Arquitetura de uma Rede Neural Feedforward:</b></p>"
   ]
  },
  {
   "cell_type": "markdown",
   "metadata": {},
   "source": [
    "<div align=\"center\" style=\"background-color: white; height: 300px;\"><img src=\"multilayer_perceptron.png\"></div>"
   ]
  },
  {
   "cell_type": "code",
   "execution_count": 12,
   "metadata": {},
   "outputs": [
    {
     "name": "stdout",
     "output_type": "stream",
     "text": [
      "epoch..............................: 01 - loss: 9.00000000\n",
      "epoch..............................: 02 - loss: 1.26051808\n",
      "epoch..............................: 03 - loss: 1.26051807\n",
      "epoch..............................: 04 - loss: 0.30000000\n",
      "epoch..............................: 05 - loss: 0.25010000\n",
      "epoch..............................: 06 - loss: 0.20045000\n",
      "epoch..............................: 07 - loss: 0.15060000\n",
      "epoch..............................: 08 - loss: 0.10060000\n",
      "epoch..............................: 09 - loss: 0.05060000\n",
      "epoch..............................: 10 - loss: 0.00060000\n",
      "[[0], [1], [1], [0]]\n"
     ]
    }
   ],
   "source": [
    "from Neuraline.ArtificialIntelligence.DeepLearning.neural_network import NeuralNetwork\n",
    "feedforward = NeuralNetwork()\n",
    "inputs = [[0, 0], [0, 1], [1, 0], [1, 1]]\n",
    "outputs = [[0], [1], [1], [0]]\n",
    "feedforward.addHiddenLayer(hidden_nodes=3, activation_function='linear')\n",
    "feedforward.fit(inputs=inputs, outputs=outputs, epochs=10, activation_function='binary_step', show_error=True)\n",
    "entries = [[0, 0], [0, 1], [1, 0], [1, 1]]\n",
    "result = feedforward.predict(entries)\n",
    "print(result)"
   ]
  },
  {
   "cell_type": "markdown",
   "metadata": {},
   "source": [
    "<h4>Máquina de Boltzmann como Algoritmo de Recomendação</h4>"
   ]
  },
  {
   "cell_type": "code",
   "execution_count": 13,
   "metadata": {},
   "outputs": [
    {
     "name": "stdout",
     "output_type": "stream",
     "text": [
      "[[1, 2], [3, 4], [10, 20], [30, 40], [100, 200], [300, 400]]\n"
     ]
    }
   ],
   "source": [
    "from Neuraline.ArtificialIntelligence.MachineLearning.AutonomousLearning.boltzmann_machine import BoltzmannMachine\n",
    "boltzmann_machine = BoltzmannMachine()\n",
    "\n",
    "inputs = [[1, 2], [10, 20], [100, 200], [3, 4], [30, 40], [300, 400], [5, 6], [50, 60], [500, 600], [7, 8], [70, 80], [700, 800]]\n",
    "boltzmann_machine.fit(inputs=inputs)\n",
    "entries = [[2, 2], [3, 3], [20, 20], [30, 30], [200, 200], [300, 300]]\n",
    "result = boltzmann_machine.predict(inputs=entries)\n",
    "print(result)"
   ]
  },
  {
   "cell_type": "markdown",
   "metadata": {},
   "source": [
    "<h4>Máquina de Boltzmann como Algoritmo para Redução de Dimensionalidade</h4>"
   ]
  },
  {
   "cell_type": "code",
   "execution_count": 16,
   "metadata": {},
   "outputs": [
    {
     "name": "stdout",
     "output_type": "stream",
     "text": [
      "[[3, 8], [4, 9], [5, 10], [6, 11]]\n"
     ]
    }
   ],
   "source": [
    "from Neuraline.ArtificialIntelligence.MachineLearning.AutonomousLearning.boltzmann_machine import BoltzmannMachine\n",
    "boltzmann_machine = BoltzmannMachine()\n",
    "\n",
    "inputs = [[1, 2, 3, 4, 5, 6, 7, 8, 9, 10], [2, 3, 4, 5, 6, 7, 8, 9, 10, 11], [3, 4, 5, 6, 7, 8, 9, 10, 11, 12], [4, 5, 6, 7, 8, 9, 10, 11, 12, 13]]\n",
    "result = boltzmann_machine.getResizing(inputs=inputs, dimensions=2)\n",
    "print(result)"
   ]
  }
 ],
 "metadata": {
  "kernelspec": {
   "display_name": "Python 3.10.4 64-bit",
   "language": "python",
   "name": "python3"
  },
  "language_info": {
   "codemirror_mode": {
    "name": "ipython",
    "version": 3
   },
   "file_extension": ".py",
   "mimetype": "text/x-python",
   "name": "python",
   "nbconvert_exporter": "python",
   "pygments_lexer": "ipython3",
   "version": "3.10.4"
  },
  "orig_nbformat": 4,
  "vscode": {
   "interpreter": {
    "hash": "916dbcbb3f70747c44a77c7bcd40155683ae19c65e1c03b4aa3499c5328201f1"
   }
  }
 },
 "nbformat": 4,
 "nbformat_minor": 2
}
