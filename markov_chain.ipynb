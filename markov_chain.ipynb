{
 "cells": [
  {
   "cell_type": "markdown",
   "metadata": {},
   "source": [
    "<h3>Markov Chain (Cadeias de Markov)</h3>"
   ]
  },
  {
   "cell_type": "markdown",
   "metadata": {},
   "source": [
    "<p>A Cadeia de Markov é uma técnica de previsão matemática que usa relações entre os dados onde o próximo valor na sequência depende apenas do valor atual.</p>\n",
    "<ul>\n",
    "    <li><b>vary=True:</b> o resultado irá variar de uma execução para a outra.</li>\n",
    "    <li><b>vary=False:</b> o resultado NÃO irá variar de uma execução para a outra.</li>\n",
    "</ul>"
   ]
  },
  {
   "cell_type": "markdown",
   "metadata": {},
   "source": [
    "<h4>Cadeias de Markov na geração de sequências numéricas</h4>"
   ]
  },
  {
   "cell_type": "code",
   "execution_count": 28,
   "metadata": {},
   "outputs": [
    {
     "name": "stdout",
     "output_type": "stream",
     "text": [
      "[[15, 20], [20, 19], [1, 2], [20, 20], [8, 8], [15, 15], [3, 4], [5, 6], [7, 8], [19, 20]]\n"
     ]
    }
   ],
   "source": [
    "from Neuraline.ArtificialIntelligence.MachineLearning.AutonomousLearning.markov_chain import MarkovChain\n",
    "markov_chain = MarkovChain()\n",
    "\n",
    "inputs = [[1, 2], [3, 4], [5, 6], [7, 8], [9, 10], [11, 12], [13, 14], [15, 16], [17, 18], [19, 20]]\n",
    "markov_chain.fit(inputs=inputs)\n",
    "new_inputs = markov_chain.predict(predictions=10, vary=True)\n",
    "print(new_inputs)"
   ]
  },
  {
   "cell_type": "code",
   "execution_count": 29,
   "metadata": {},
   "outputs": [
    {
     "name": "stdout",
     "output_type": "stream",
     "text": [
      "[[14, 15], [6, 7], [1, 2], [19, 19], [8, 6], [4, 6], [3, 4], [5, 6], [7, 8], [19, 20]]\n"
     ]
    }
   ],
   "source": [
    "from Neuraline.ArtificialIntelligence.MachineLearning.AutonomousLearning.markov_chain import MarkovChain\n",
    "markov_chain = MarkovChain()\n",
    "\n",
    "inputs = [[1, 2], [3, 4], [5, 6], [7, 8], [9, 10], [11, 12], [13, 14], [15, 16], [17, 18], [19, 20]]\n",
    "markov_chain.fit(inputs=inputs)\n",
    "new_inputs = markov_chain.predict(inputs=inputs, predictions=10, vary=True)\n",
    "print(new_inputs)"
   ]
  },
  {
   "cell_type": "markdown",
   "metadata": {},
   "source": [
    "<h4>Cadeias de Markov na composição musical</h4>"
   ]
  },
  {
   "cell_type": "markdown",
   "metadata": {},
   "source": [
    "<p>Adiciona composições a lista de reprodução salva no álbum.</p>\n",
    "<ul>\n",
    "    <li><b>name:</b> nome da composição no álbum.</li>\n",
    "    <li><b>notes:</b> lista de strings com os nomes das notas musicais.</li>\n",
    "</ul>"
   ]
  },
  {
   "cell_type": "code",
   "execution_count": 30,
   "metadata": {},
   "outputs": [],
   "source": [
    "from Neuraline.ArtificialIntelligence.MachineLearning.AutonomousLearning.markov_chain import MarkovChain\n",
    "markov_chain = MarkovChain()\n",
    "\n",
    "result = markov_chain.addCompose(name='composicao1', notes=['dó', 'ré', 'mi', 'fá', 'sol', 'lá', 'si', 'dó', 'ré',  'mi'])\n",
    "result = markov_chain.addCompose(name='composicao2', notes=['ré', 'fá', 'lá', 'dó', 'mi', 'sol', 'si', 'ré', 'dó',  'mi'])\n",
    "result = markov_chain.addCompose(name='composicao3', notes=['dó', 'mi', 'sol', 'si', 'ré', 'dó', 'mi', 'sol', 'si', 'ré'])\n",
    "result = markov_chain.addCompose(name='composicao4', notes=['ré', 'si', 'sol', 'mi', 'dó', 'ré', 'si', 'sol', 'mi', 'dó'])"
   ]
  },
  {
   "cell_type": "markdown",
   "metadata": {},
   "source": [
    "<p>Reproduz a composição definida no parâmetro \"name\".</p>\n",
    "<ul>\n",
    "    <li><b>name:</b> nome da composição a ser tocada no álbum.</li>\n",
    "    <li><b>velocity:</b> velocidade de reprodução, 2 é a velocidade normal.</li>\n",
    "</ul>"
   ]
  },
  {
   "cell_type": "code",
   "execution_count": 31,
   "metadata": {},
   "outputs": [
    {
     "name": "stdout",
     "output_type": "stream",
     "text": [
      "playing...\n",
      "finished..\n"
     ]
    }
   ],
   "source": [
    "result = markov_chain.playCompose(name='composicao4', velocity=2)"
   ]
  },
  {
   "cell_type": "markdown",
   "metadata": {},
   "source": [
    "<p>Gera uma nova composição inspirada nos padrões das composições adicionadas no álbum.</p>\n",
    "<ul>\n",
    "    <li><b>vary:</b> True para variar os resultados ou False para um único resultado fixo.</li>\n",
    "    <li><b>velocity:</b> velocidade de reprodução, 2 é a velocidade normal.</li>\n",
    "    <li><b>return_notes:</b> True para retornar a lista de notas da predição ou False para retornar o booleano de sucesso ou fracasso.</li>\n",
    "    <li><b>play:</b> True para reproduzir o resultado ou False para não reproduzir.</li>\n",
    "    <li><b>progress:</b> True para exibir o progresso da predição ou False para ocultar o progresso.</li>\n",
    "</ul>"
   ]
  },
  {
   "cell_type": "code",
   "execution_count": 32,
   "metadata": {},
   "outputs": [
    {
     "name": "stdout",
     "output_type": "stream",
     "text": [
      "prediction progress..........................: 000.000000%\n",
      "prediction progress..........................: 010.000000%\n",
      "prediction progress..........................: 020.000000%\n",
      "prediction progress..........................: 030.000000%\n",
      "prediction progress..........................: 040.000000%\n",
      "prediction progress..........................: 050.000000%\n",
      "prediction progress..........................: 060.000000%\n",
      "prediction progress..........................: 070.000000%\n",
      "prediction progress..........................: 080.000000%\n",
      "prediction progress..........................: 090.000000%\n",
      "prediction progress..........................: 100.000000%\n",
      "playing...\n",
      "finished..\n"
     ]
    }
   ],
   "source": [
    "result = markov_chain.markovMusicGenerator(vary=True, velocity=2, return_notes=False, play=True, progress=True)"
   ]
  }
 ],
 "metadata": {
  "kernelspec": {
   "display_name": "Python 3.10.4 64-bit",
   "language": "python",
   "name": "python3"
  },
  "language_info": {
   "codemirror_mode": {
    "name": "ipython",
    "version": 3
   },
   "file_extension": ".py",
   "mimetype": "text/x-python",
   "name": "python",
   "nbconvert_exporter": "python",
   "pygments_lexer": "ipython3",
   "version": "3.10.4"
  },
  "orig_nbformat": 4,
  "vscode": {
   "interpreter": {
    "hash": "916dbcbb3f70747c44a77c7bcd40155683ae19c65e1c03b4aa3499c5328201f1"
   }
  }
 },
 "nbformat": 4,
 "nbformat_minor": 2
}
