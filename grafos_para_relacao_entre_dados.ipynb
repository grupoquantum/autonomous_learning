{
 "cells": [
  {
   "cell_type": "markdown",
   "metadata": {},
   "source": [
    "<h3>Grafos na Análise de Proliferação da Monkeypox (Varíola dos Macacos)</h3>"
   ]
  },
  {
   "cell_type": "markdown",
   "metadata": {},
   "source": [
    "<a href=\"https://www.ecdc.europa.eu/en/publications-data/data-monkeypox-cases-eueea\">https://www.ecdc.europa.eu/en/publications-data/data-monkeypox-cases-eueea</a>"
   ]
  },
  {
   "cell_type": "code",
   "execution_count": 38,
   "metadata": {},
   "outputs": [
    {
     "name": "stdout",
     "output_type": "stream",
     "text": [
      "╒════════════╤══════════════╤═══════════════╤══════════╤═════════════╕\n",
      "│ ﻿DateRep   │ CountryExp   │ CountryCode   │ Source   │   ConfCases │\n",
      "╞════════════╪══════════════╪═══════════════╪══════════╪═════════════╡\n",
      "│ 2022-05-09 │ Austria      │ AT            │ TESSy    │           0 │\n",
      "├────────────┼──────────────┼───────────────┼──────────┼─────────────┤\n",
      "│ 2022-05-09 │ Belgium      │ BE            │ TESSy    │           0 │\n",
      "├────────────┼──────────────┼───────────────┼──────────┼─────────────┤\n",
      "│ 2022-05-09 │ Bulgaria     │ BG            │ TESSy    │           0 │\n",
      "├────────────┼──────────────┼───────────────┼──────────┼─────────────┤\n",
      "│ 2022-05-09 │ Croatia      │ HR            │ TESSy    │           0 │\n",
      "├────────────┼──────────────┼───────────────┼──────────┼─────────────┤\n",
      "│ 2022-05-09 │ Cyprus       │ CY            │ TESSy    │           0 │\n",
      "├────────────┼──────────────┼───────────────┼──────────┼─────────────┤\n",
      "│ 2022-05-09 │ Czechia      │ CZ            │ TESSy    │           0 │\n",
      "├────────────┼──────────────┼───────────────┼──────────┼─────────────┤\n",
      "│ 2022-05-09 │ Denmark      │ DK            │ EI       │           0 │\n",
      "├────────────┼──────────────┼───────────────┼──────────┼─────────────┤\n",
      "│ 2022-05-09 │ Estonia      │ EE            │ EI       │           0 │\n",
      "├────────────┼──────────────┼───────────────┼──────────┼─────────────┤\n",
      "│ 2022-05-09 │ Finland      │ FI            │ EI       │           0 │\n",
      "├────────────┼──────────────┼───────────────┼──────────┼─────────────┤\n",
      "│ 2022-05-09 │ France       │ FR            │ EI       │           0 │\n",
      "╘════════════╧══════════════╧═══════════════╧══════════╧═════════════╛\n"
     ]
    }
   ],
   "source": [
    "from Neuraline.Utilities.data import DataTable, DataExploration, ConvertData\n",
    "data_table, data_exploration, convert_data = DataTable(), DataExploration(), ConvertData()\n",
    "url_path, url_save = './monkeypox_original.csv', './monkeypox_atualizado.csv'\n",
    "result = data_table.visualization_csv_inline(url_path, limit=10)\n",
    "countries = data_exploration.getOutputTypesCSV(url_path, 'CountryExp')"
   ]
  },
  {
   "cell_type": "markdown",
   "metadata": {},
   "source": [
    "<p>Formatação do arquivo para somente duas colunas com categorias numéricas para os países com um ou mais casos confirmados.</p>"
   ]
  },
  {
   "cell_type": "code",
   "execution_count": 39,
   "metadata": {},
   "outputs": [
    {
     "name": "stdout",
     "output_type": "stream",
     "text": [
      "╒══════════════╤═════════════╕\n",
      "│   CountryExp │   ConfCases │\n",
      "╞══════════════╪═════════════╡\n",
      "│           13 │           1 │\n",
      "├──────────────┼─────────────┤\n",
      "│            1 │           1 │\n",
      "├──────────────┼─────────────┤\n",
      "│           13 │           4 │\n",
      "├──────────────┼─────────────┤\n",
      "│           13 │           2 │\n",
      "├──────────────┼─────────────┤\n",
      "│            1 │           2 │\n",
      "├──────────────┼─────────────┤\n",
      "│            1 │           3 │\n",
      "├──────────────┼─────────────┤\n",
      "│           28 │           1 │\n",
      "├──────────────┼─────────────┤\n",
      "│           22 │           6 │\n",
      "├──────────────┼─────────────┤\n",
      "│            5 │           5 │\n",
      "├──────────────┼─────────────┤\n",
      "│            1 │          20 │\n",
      "╘══════════════╧═════════════╛\n"
     ]
    }
   ],
   "source": [
    "str_csv = convert_data.readTEXT(url_path)\n",
    "for i, country in enumerate(countries): str_csv = str_csv.replace(country, str(i)).strip()\n",
    "result = convert_data.writeTEXT(text=str_csv, url_path=url_save)\n",
    "titles = ['CountryExp', 'ConfCases']\n",
    "inputs, temp_inputs = data_table.read_csv(url_save, titles=titles), []\n",
    "for i, _ in enumerate(inputs):\n",
    "    if inputs[i][1] > 0: temp_inputs.append(inputs[i])\n",
    "inputs = temp_inputs\n",
    "result = data_table.generation_csv(url_save, titles=titles, data=inputs)\n",
    "result = data_table.visualization_csv_inline(url_path=url_save, limit=10)"
   ]
  },
  {
   "cell_type": "markdown",
   "metadata": {},
   "source": [
    "<p>Seleciona um país para a identificação das relações considerando somente a primeira ocorrência como origem da doença no país selecionado.</p>"
   ]
  },
  {
   "cell_type": "code",
   "execution_count": 40,
   "metadata": {},
   "outputs": [],
   "source": [
    "country = 'Portugal'\n",
    "index = countries.index(country)\n",
    "entries = []\n",
    "for record in inputs:\n",
    "    if record[0] == index and record[1] > 0:\n",
    "        entries.append(record)\n",
    "        break"
   ]
  },
  {
   "cell_type": "markdown",
   "metadata": {},
   "source": [
    "<p>Treina o grafo com o arquivo atualizado e executa a predição, em seguida armazena os códigos dos países relacionados ao país selecionado.</p>"
   ]
  },
  {
   "cell_type": "code",
   "execution_count": 41,
   "metadata": {},
   "outputs": [],
   "source": [
    "from Neuraline.ArtificialIntelligence.MachineLearning.AutonomousLearning.graph import Graph\n",
    "graph = Graph()\n",
    "\n",
    "graph.fitCSV(url_save)\n",
    "\n",
    "result = graph.predictCSV(inputs=entries, min_predictions=2, titles=titles)\n",
    "outputs = data_exploration.getOutputTypesCSV('./group1.csv', 'CountryExp')"
   ]
  },
  {
   "cell_type": "markdown",
   "metadata": {},
   "source": [
    "<p>Troca os códigos pelos nomes dos países correspondentes e imprime a relação dos grafos.</p>"
   ]
  },
  {
   "cell_type": "code",
   "execution_count": 42,
   "metadata": {},
   "outputs": [
    {
     "name": "stdout",
     "output_type": "stream",
     "text": [
      "Proliferação por ordem de transmissão: Portugal --> Netherlands --> Germany --> Spain --> France -->  ...\n"
     ]
    }
   ],
   "source": [
    "temp_outputs = []\n",
    "for output in outputs: temp_outputs.append(countries[output])\n",
    "outputs = temp_outputs\n",
    "\n",
    "str_result = ''\n",
    "for output in outputs: str_result += f'{output} --> '\n",
    "print(f'Proliferação por ordem de transmissão: {str_result} ...')"
   ]
  }
 ],
 "metadata": {
  "kernelspec": {
   "display_name": "Python 3.10.4 64-bit",
   "language": "python",
   "name": "python3"
  },
  "language_info": {
   "codemirror_mode": {
    "name": "ipython",
    "version": 3
   },
   "file_extension": ".py",
   "mimetype": "text/x-python",
   "name": "python",
   "nbconvert_exporter": "python",
   "pygments_lexer": "ipython3",
   "version": "3.10.4"
  },
  "orig_nbformat": 4,
  "vscode": {
   "interpreter": {
    "hash": "916dbcbb3f70747c44a77c7bcd40155683ae19c65e1c03b4aa3499c5328201f1"
   }
  }
 },
 "nbformat": 4,
 "nbformat_minor": 2
}
