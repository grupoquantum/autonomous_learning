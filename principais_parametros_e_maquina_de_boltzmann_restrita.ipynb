{
 "cells": [
  {
   "cell_type": "markdown",
   "metadata": {},
   "source": [
    "<h3>Boltzmann Machine/Máquina de Boltzmann</h3>\n",
    "<h5>Propagação em todas as direções com todos os nós/neurônios/unidades conectados entre si.</h5>\n",
    "<div align=\"center\" style=\"background-color: white; height: 300px;\"><img src=\"./boltzmann_machine.png\"></div>"
   ]
  },
  {
   "cell_type": "code",
   "execution_count": 18,
   "metadata": {},
   "outputs": [
    {
     "name": "stdout",
     "output_type": "stream",
     "text": [
      "[[0.1, 0.2, 0.3, 0.4], [0.5, 0.6, 0.7, 0.8]]\n"
     ]
    }
   ],
   "source": [
    "from Neuraline.ArtificialIntelligence.MachineLearning.AutonomousLearning.boltzmann_machine import BoltzmannMachine\n",
    "boltzmann_machine = BoltzmannMachine(\n",
    "    nodes=3, # número referente a quantidade de neurônios ocultos\n",
    "    restricted=False # se definido como True irá aplicar a arquitetura da máquina de Boltzmann restrita, caso contrário aplicará a arquitetura convencional\n",
    ")\n",
    "\n",
    "inputs = [[0.1, 0.2, 0.3, 0.4], [0.5, 0.6, 0.7, 0.8]]\n",
    "boltzmann_machine.fit(inputs=inputs)\n",
    "entries = [[0.0, 0.0, 0.0, 0.0], [0.4, 0.4, 0.4, 0.4]]\n",
    "result = boltzmann_machine.predict(inputs=entries)\n",
    "print(result)"
   ]
  },
  {
   "cell_type": "markdown",
   "metadata": {},
   "source": [
    "<h3>Boltzmann Machine/Máquina de Boltzmann</h3>\n",
    "<h5>Propagação para a frente e para trás com duas camadas (camada de entrada e camada oculta).</h5>\n",
    "<div align=\"center\" style=\"background-color: white; height: 300px;\"><img src=\"./restricted_boltzmann_machine.png\"></div>"
   ]
  },
  {
   "cell_type": "code",
   "execution_count": 19,
   "metadata": {},
   "outputs": [
    {
     "name": "stdout",
     "output_type": "stream",
     "text": [
      "[[0.1, 0.2, 0.3], [0.4, 0.5, 0.6]]\n"
     ]
    }
   ],
   "source": [
    "from Neuraline.ArtificialIntelligence.MachineLearning.AutonomousLearning.boltzmann_machine import BoltzmannMachine\n",
    "restricted_boltzmann_machine = BoltzmannMachine(\n",
    "    nodes=4, # número referente a quantidade de neurônios ocultos\n",
    "    restricted=True # se definido como True irá aplicar a arquitetura da máquina de Boltzmann restrita, caso contrário aplicará a arquitetura convencional\n",
    ")\n",
    "\n",
    "inputs = [[0.1, 0.2, 0.3], [0.4, 0.5, 0.6]]\n",
    "restricted_boltzmann_machine.fit(inputs=inputs)\n",
    "entries = [[0.0, 0.0, 0.0], [0.3, 0.3, 0.3]]\n",
    "result = restricted_boltzmann_machine.predict(inputs=entries)\n",
    "print(result)"
   ]
  }
 ],
 "metadata": {
  "kernelspec": {
   "display_name": "Python 3.10.4 64-bit",
   "language": "python",
   "name": "python3"
  },
  "language_info": {
   "codemirror_mode": {
    "name": "ipython",
    "version": 3
   },
   "file_extension": ".py",
   "mimetype": "text/x-python",
   "name": "python",
   "nbconvert_exporter": "python",
   "pygments_lexer": "ipython3",
   "version": "3.10.4"
  },
  "orig_nbformat": 4,
  "vscode": {
   "interpreter": {
    "hash": "916dbcbb3f70747c44a77c7bcd40155683ae19c65e1c03b4aa3499c5328201f1"
   }
  }
 },
 "nbformat": 4,
 "nbformat_minor": 2
}
