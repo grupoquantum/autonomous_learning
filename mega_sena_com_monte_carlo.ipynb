{
 "cells": [
  {
   "cell_type": "markdown",
   "metadata": {},
   "source": [
    "<h3>Cadeias de Markov na Geração de Jogos da Loteria</h3>"
   ]
  },
  {
   "cell_type": "markdown",
   "metadata": {},
   "source": [
    "<h4>Declaração de Variáveis e Visualização dos Dados</h4>"
   ]
  },
  {
   "cell_type": "code",
   "execution_count": 2,
   "metadata": {},
   "outputs": [
    {
     "name": "stdout",
     "output_type": "stream",
     "text": [
      "╒════════════╤════════════╤══════════╤══════════╤══════════╤══════════╤══════════╤══════════╕\n",
      "│   Concurso │ Data       │   bola 1 │   bola 2 │   bola 3 │   bola 4 │   bola 5 │   bola 6 │\n",
      "╞════════════╪════════════╪══════════╪══════════╪══════════╪══════════╪══════════╪══════════╡\n",
      "│       2515 │ 31/08/2022 │       54 │        3 │       41 │       12 │       45 │       19 │\n",
      "├────────────┼────────────┼──────────┼──────────┼──────────┼──────────┼──────────┼──────────┤\n",
      "│       2514 │ 27/08/2022 │        5 │       15 │       52 │       34 │       45 │       24 │\n",
      "├────────────┼────────────┼──────────┼──────────┼──────────┼──────────┼──────────┼──────────┤\n",
      "│       2513 │ 24/08/2022 │       50 │       21 │       13 │       46 │       35 │       19 │\n",
      "├────────────┼────────────┼──────────┼──────────┼──────────┼──────────┼──────────┼──────────┤\n",
      "│       2512 │ 20/08/2022 │       47 │       52 │       10 │       49 │       34 │        7 │\n",
      "├────────────┼────────────┼──────────┼──────────┼──────────┼──────────┼──────────┼──────────┤\n",
      "│       2511 │ 17/08/2022 │       49 │       39 │        4 │       15 │       41 │       10 │\n",
      "├────────────┼────────────┼──────────┼──────────┼──────────┼──────────┼──────────┼──────────┤\n",
      "│       2510 │ 13/08/2022 │       25 │       32 │       13 │       57 │        8 │       44 │\n",
      "├────────────┼────────────┼──────────┼──────────┼──────────┼──────────┼──────────┼──────────┤\n",
      "│       2509 │ 10/08/2022 │       50 │        8 │       37 │       59 │       39 │       60 │\n",
      "├────────────┼────────────┼──────────┼──────────┼──────────┼──────────┼──────────┼──────────┤\n",
      "│       2508 │ 06/08/2022 │       51 │       45 │       41 │       53 │       58 │       48 │\n",
      "├────────────┼────────────┼──────────┼──────────┼──────────┼──────────┼──────────┼──────────┤\n",
      "│       2507 │ 04/08/2022 │        4 │       34 │        6 │       35 │       12 │       53 │\n",
      "├────────────┼────────────┼──────────┼──────────┼──────────┼──────────┼──────────┼──────────┤\n",
      "│       2506 │ 02/08/2022 │       21 │       44 │       40 │       34 │       22 │       29 │\n",
      "╘════════════╧════════════╧══════════╧══════════╧══════════╧══════════╧══════════╧══════════╛\n"
     ]
    }
   ],
   "source": [
    "from Neuraline.Utilities.data import DataTable, DataExploration # importação das classes\n",
    "data_table, data_exploration = DataTable(), DataExploration() # instanciação dos objetos\n",
    "# declaração das variáveis de endereçamento e dos títulos das colunas que serão utilizadas na análise\n",
    "url_path, sheet_name, url_description, url_save = './mega_sena.xlsx', 'mega_sena_www.asloterias.com.br', './description.xlsx', './jogos.csv'\n",
    "titles = ['bola 1', 'bola 2', 'bola 3', 'bola 4', 'bola 5', 'bola 6']\n",
    "result = data_table.visualization_excel_inline(url_path, sheet_name=sheet_name, limit=10) # visualização da estrutura do arquivo de dados"
   ]
  },
  {
   "cell_type": "markdown",
   "metadata": {},
   "source": [
    "<h4>Exploração e Análise dos Dados (somente para as 10 primeiras linhas)</h4>"
   ]
  },
  {
   "cell_type": "code",
   "execution_count": 3,
   "metadata": {},
   "outputs": [
    {
     "name": "stdout",
     "output_type": "stream",
     "text": [
      "╒══════════╤═══════════╤═══════════╤═══════════╤═════════════════════╤══════════════════════╤═════════════╤═════════╤═════════════╤════════╤═════════╕\n",
      "│ column   │   minimum │   maximum │   average │   lowest_repetition │   highest_repetition │   negatives │   zeros │   positives │   null │   empty │\n",
      "╞══════════╪═══════════╪═══════════╪═══════════╪═════════════════════╪══════════════════════╪═════════════╪═════════╪═════════════╪════════╪═════════╡\n",
      "│ bola 1   │         1 │        60 │   30.5237 │                  15 │                   28 │           0 │       0 │        2515 │      0 │       0 │\n",
      "├──────────┼───────────┼───────────┼───────────┼─────────────────────┼──────────────────────┼─────────────┼─────────┼─────────────┼────────┼─────────┤\n",
      "│ bola 2   │         1 │        60 │   30.107  │                  60 │                    5 │           0 │       0 │        2515 │      0 │       0 │\n",
      "├──────────┼───────────┼───────────┼───────────┼─────────────────────┼──────────────────────┼─────────────┼─────────┼─────────────┼────────┼─────────┤\n",
      "│ bola 3   │         1 │        60 │   30.7268 │                  22 │                   27 │           0 │       0 │        2515 │      0 │       0 │\n",
      "├──────────┼───────────┼───────────┼───────────┼─────────────────────┼──────────────────────┼─────────────┼─────────┼─────────────┼────────┼─────────┤\n",
      "│ bola 4   │         1 │        60 │   30.8004 │                   3 │                   29 │           0 │       0 │        2515 │      0 │       0 │\n",
      "├──────────┼───────────┼───────────┼───────────┼─────────────────────┼──────────────────────┼─────────────┼─────────┼─────────────┼────────┼─────────┤\n",
      "│ bola 5   │         1 │        60 │   30.5829 │                  55 │                   35 │           0 │       0 │        2515 │      0 │       0 │\n",
      "├──────────┼───────────┼───────────┼───────────┼─────────────────────┼──────────────────────┼─────────────┼─────────┼─────────────┼────────┼─────────┤\n",
      "│ bola 6   │         1 │        60 │   30.3905 │                  21 │                   23 │           0 │       0 │        2515 │      0 │       0 │\n",
      "╘══════════╧═══════════╧═══════════╧═══════════╧═════════════════════╧══════════════════════╧═════════════╧═════════╧═════════════╧════════╧═════════╛\n"
     ]
    }
   ],
   "source": [
    "data_exploration.describeExcel(url_path, titles=titles, sheet_name=sheet_name) # cria a tabela de resultados estatísticos\n",
    "result = data_table.visualization_excel_inline(url_description, sheet_name=sheet_name, limit=10) # visualiza as 10 primeiras linhas do arquivo gerado"
   ]
  },
  {
   "cell_type": "markdown",
   "metadata": {},
   "source": [
    "<h4>Treinamento e Predição do Modelo com Geração do Arquivo CSV</h4>"
   ]
  },
  {
   "cell_type": "code",
   "execution_count": 6,
   "metadata": {},
   "outputs": [
    {
     "name": "stdout",
     "output_type": "stream",
     "text": [
      "training progress............................: 001.000000%\n",
      "training progress............................: 010.000000%\n",
      "training progress............................: 020.000000%\n",
      "training progress............................: 050.000000%\n",
      "training progress............................: 090.000000%\n",
      "training progress............................: 100.000000%\n",
      "prediction progress..........................: 001.000000%\n",
      "prediction progress..........................: 050.000000%\n",
      "prediction progress..........................: 055.000000%\n",
      "prediction progress..........................: 075.000000%\n",
      "prediction progress..........................: 090.000000%\n",
      "prediction progress..........................: 100.000000%\n"
     ]
    }
   ],
   "source": [
    "from Neuraline.ArtificialIntelligence.MachineLearning.AutonomousLearning.monte_carlo import MonteCarlo # importação da classe de Markov\n",
    "monte_carlo = MonteCarlo(progress=True) # progress=True: habilita a exibição do progresso do treinamento e da predição\n",
    "\n",
    "inputs = data_table.read_excel(url_path, titles=titles, sheet_name=sheet_name, limit=365) # leitura dos resultados históricos do ano\n",
    "monte_carlo.fit(inputs=inputs) # treinamento do modelo\n",
    "\n",
    "outputs = monte_carlo.predict(predictions=10)\n",
    "# código para eliminar números repetidos do sorteio\n",
    "maximum_column = data_table.read_excel(url_description, titles=['maximum'], sheet_name=sheet_name) # captura os valores da coluna maximum\n",
    "maximum = max([x[0] for x in maximum_column]) # percorre a lista bidimensional para convertê-la em unidimensional e extrai o maior valor da lista\n",
    "middle = maximum/2 # calcula a metade do limite numérico\n",
    "temp_outputs = [] # lista de saídas temporárias\n",
    "for output in outputs: # percorre a lista de resultados preditivos\n",
    "    temp_output = [] # saída temporária\n",
    "    for number in output: # percorre o resultado preditivo\n",
    "        if number not in temp_output: temp_output.append(number) # se o número não constar na lista de saída temporária então será inserido\n",
    "        else: # se o número já existir na lista de saída temporária uma nova avaliação é feita\n",
    "            # condicional para evitar que os novos números não excedam os limites mínimo e máximo do sorteio\n",
    "            if number < middle: number+=1 # se o número for menor que a metade então soma 1\n",
    "            else: number-=1 # se o número for maior ou igual a metade então subtrai 1\n",
    "            if number not in temp_output: temp_output.append(number) # se o novo número não constar na lista de saída temporária então será inserido\n",
    "            else: # se o novo número já existir na lista de saída temporária uma nova avaliação será feita\n",
    "                for n in range(1, maximum+1): # loop de 1 até o número máximo permitido pelo sorteio\n",
    "                    if n not in temp_output: # verifica se um dos números possíveis não consta na lista de saída temporária\n",
    "                        temp_output.append(n) # ao encontrar um número que não conste na lista de saída temporária ele será inserido\n",
    "                        break # encerra o loop quando o primeiro número inédito for encontrado\n",
    "    temp_outputs.append(sorted(temp_output)) # insere a saída temporária na lista de saídas temporárias\n",
    "outputs = temp_outputs # atualiza a lista de resultados preditivos com os valores ordenados sem repetição  \n",
    "\n",
    "result = data_table.generation_csv(url_save, titles=titles, data=outputs) # geração do arquivo de resultados"
   ]
  },
  {
   "cell_type": "markdown",
   "metadata": {},
   "source": [
    "<h4>Leitura e Visualização do Arquivo de Resultados</h4>"
   ]
  },
  {
   "cell_type": "code",
   "execution_count": 7,
   "metadata": {},
   "outputs": [
    {
     "name": "stdout",
     "output_type": "stream",
     "text": [
      "╒══════════╤══════════╤══════════╤══════════╤══════════╤══════════╕\n",
      "│   bola 1 │   bola 2 │   bola 3 │   bola 4 │   bola 5 │   bola 6 │\n",
      "╞══════════╪══════════╪══════════╪══════════╪══════════╪══════════╡\n",
      "│       11 │       27 │       36 │       40 │       58 │       59 │\n",
      "├──────────┼──────────┼──────────┼──────────┼──────────┼──────────┤\n",
      "│       21 │       27 │       41 │       42 │       59 │       60 │\n",
      "├──────────┼──────────┼──────────┼──────────┼──────────┼──────────┤\n",
      "│        2 │        6 │       21 │       37 │       47 │       50 │\n",
      "├──────────┼──────────┼──────────┼──────────┼──────────┼──────────┤\n",
      "│        1 │       21 │       38 │       41 │       56 │       57 │\n",
      "├──────────┼──────────┼──────────┼──────────┼──────────┼──────────┤\n",
      "│       15 │       29 │       40 │       42 │       46 │       56 │\n",
      "├──────────┼──────────┼──────────┼──────────┼──────────┼──────────┤\n",
      "│        5 │       14 │       35 │       38 │       44 │       60 │\n",
      "├──────────┼──────────┼──────────┼──────────┼──────────┼──────────┤\n",
      "│        1 │        2 │       14 │       16 │       28 │       53 │\n",
      "├──────────┼──────────┼──────────┼──────────┼──────────┼──────────┤\n",
      "│        1 │       17 │       27 │       28 │       35 │       59 │\n",
      "├──────────┼──────────┼──────────┼──────────┼──────────┼──────────┤\n",
      "│        8 │       11 │       22 │       28 │       39 │       57 │\n",
      "├──────────┼──────────┼──────────┼──────────┼──────────┼──────────┤\n",
      "│       14 │       34 │       41 │       43 │       57 │       58 │\n",
      "╘══════════╧══════════╧══════════╧══════════╧══════════╧══════════╛\n"
     ]
    }
   ],
   "source": [
    "result = data_table.visualization_csv_inline(url_save) # visualização do arquivo de resultados"
   ]
  }
 ],
 "metadata": {
  "kernelspec": {
   "display_name": "Python 3.10.4 64-bit",
   "language": "python",
   "name": "python3"
  },
  "language_info": {
   "codemirror_mode": {
    "name": "ipython",
    "version": 3
   },
   "file_extension": ".py",
   "mimetype": "text/x-python",
   "name": "python",
   "nbconvert_exporter": "python",
   "pygments_lexer": "ipython3",
   "version": "3.10.4"
  },
  "orig_nbformat": 4,
  "vscode": {
   "interpreter": {
    "hash": "916dbcbb3f70747c44a77c7bcd40155683ae19c65e1c03b4aa3499c5328201f1"
   }
  }
 },
 "nbformat": 4,
 "nbformat_minor": 2
}
