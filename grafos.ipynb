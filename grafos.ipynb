{
 "cells": [
  {
   "cell_type": "markdown",
   "metadata": {},
   "source": [
    "<h3>Graphs (Grafos)</h3>\n",
    "<p align=\"justify\">O graph (grafo) estabelece conexões de proximidade entre os dados para retornar as entradas do treinamento relacionadas a entrada da predição que levem em consideração a ordem sequencial desses dados. É muito utilizado na identificação de relações entre eventos que compartilham a mesma origem.<p>"
   ]
  },
  {
   "cell_type": "code",
   "execution_count": 24,
   "metadata": {},
   "outputs": [
    {
     "name": "stdout",
     "output_type": "stream",
     "text": [
      "[[[3, 4], [5, 6], [7, 8]]]\n"
     ]
    }
   ],
   "source": [
    "from Neuraline.ArtificialIntelligence.MachineLearning.AutonomousLearning.graph import Graph\n",
    "graph = Graph()\n",
    "\n",
    "inputs = [[1, 2], [10, 20], [100, 200], [3, 4], [30, 40], [300, 400], [5, 6], [50, 60], [500, 600], [7, 8], [70, 80], [700, 800]]\n",
    "graph.fit(inputs=inputs)\n",
    "relations = graph.predict(inputs=[[3, 4]], min_predictions=3)\n",
    "print(relations)"
   ]
  },
  {
   "cell_type": "code",
   "execution_count": 25,
   "metadata": {},
   "outputs": [
    {
     "name": "stdout",
     "output_type": "stream",
     "text": [
      "[[[3, 4], [5, 6], [7, 8]]]\n"
     ]
    }
   ],
   "source": [
    "from Neuraline.ArtificialIntelligence.MachineLearning.AutonomousLearning.graph import Graph\n",
    "graph = Graph()\n",
    "\n",
    "inputs = [[1, 2], [10, 20], [100, 200], [3, 4], [30, 40], [300, 400], [5, 6], [50, 60], [500, 600], [7, 8], [70, 80], [700, 800]]\n",
    "relations = graph.fitPredict(inputs=inputs, inputs_predict=[[3, 4]], min_predictions=3)\n",
    "print(relations)"
   ]
  }
 ],
 "metadata": {
  "kernelspec": {
   "display_name": "Python 3.10.4 64-bit",
   "language": "python",
   "name": "python3"
  },
  "language_info": {
   "codemirror_mode": {
    "name": "ipython",
    "version": 3
   },
   "file_extension": ".py",
   "mimetype": "text/x-python",
   "name": "python",
   "nbconvert_exporter": "python",
   "pygments_lexer": "ipython3",
   "version": "3.10.4"
  },
  "orig_nbformat": 4,
  "vscode": {
   "interpreter": {
    "hash": "916dbcbb3f70747c44a77c7bcd40155683ae19c65e1c03b4aa3499c5328201f1"
   }
  }
 },
 "nbformat": 4,
 "nbformat_minor": 2
}
