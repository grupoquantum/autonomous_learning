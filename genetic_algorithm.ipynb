{
 "cells": [
  {
   "cell_type": "markdown",
   "metadata": {},
   "source": [
    "<h3 align=\"center\">Algoritmos Genéticos</h3>\n",
    "<div align=\"center\" style=\"height: 250px;\"><img src=\"./algoritmo_genetico.jpg\"></div>\n",
    "<p align=\"justify\">São baseados na Teoria da Evolução Darwiniana e nos estudos genéticos que contemplam a replicação das cadeias de DNA. Divide-se os dados da amostra em um número predeterminado de pópulações onde pares de dados irão se reproduzir para gerarem novos dados que compartilhem dos padrões dos dois reprodutores, os padrões resultantes da reprodução também irão se reproduzir com os herdeiros das outras populações gerando novas combinações de dados que herdarão os padrões de seus antecessores. Cada população terá um número específico de indivíduos que representarão os dados de cada conjunto populacional. Durante o processo reprodutório no cruzamento de informações novas características aleatórias que não estejam nos pares envolvidos também poderão surgir. O algoritmo então testará os novos padrões gerados por essas reproduções perpetuando somente os padrões que melhor se adaptarem aos dados de teste fazendo com que as novas gerações estejam cada vez mais adaptadas aos dados.</p>"
   ]
  },
  {
   "cell_type": "code",
   "execution_count": 2,
   "metadata": {},
   "outputs": [
    {
     "name": "stdout",
     "output_type": "stream",
     "text": [
      "[[21, 22], [23, 24], [25, 26], [27, 28], [29, 30], [31, 32], [33, 34], [35, 36], [37, 38], [39, 40]]\n"
     ]
    }
   ],
   "source": [
    "from Neuraline.ArtificialIntelligence.MachineLearning.AutonomousLearning.genetic_algorithm import GeneticAlgorithm\n",
    "genetic_algorithm = GeneticAlgorithm()\n",
    "\n",
    "inputs = [[1, 2], [3, 4], [5, 6], [7, 8], [9, 10], [11, 12], [13, 14], [15, 16], [17, 18], [19, 20]]\n",
    "genetic_algorithm.fit(\n",
    "    inputs=inputs, # lista bidimensional de entrada\n",
    "    n_populations=2, # conjuntos de dados que irão se reproduzir internamente antes de se reproduzirem com outros conjuntos\n",
    "    n_individuals=5, # quantidade de dados em cada conjunto populacional\n",
    "    linear=True # se True irá aplicar uma correção linear nos herdeiros do cruzamento, caso contrário não aplicará correção\n",
    ")\n",
    "result = genetic_algorithm.predict(individuals=10) # individuals=10: 10 novos indivíduos resultantes\n",
    "print(result)"
   ]
  }
 ],
 "metadata": {
  "kernelspec": {
   "display_name": "Python 3.10.4 64-bit",
   "language": "python",
   "name": "python3"
  },
  "language_info": {
   "codemirror_mode": {
    "name": "ipython",
    "version": 3
   },
   "file_extension": ".py",
   "mimetype": "text/x-python",
   "name": "python",
   "nbconvert_exporter": "python",
   "pygments_lexer": "ipython3",
   "version": "3.10.4"
  },
  "orig_nbformat": 4,
  "vscode": {
   "interpreter": {
    "hash": "916dbcbb3f70747c44a77c7bcd40155683ae19c65e1c03b4aa3499c5328201f1"
   }
  }
 },
 "nbformat": 4,
 "nbformat_minor": 2
}
