{
 "cells": [
  {
   "cell_type": "markdown",
   "metadata": {},
   "source": [
    "<h3>Cadeias de Markov na Geração de Jogos da Loteria</h3>"
   ]
  },
  {
   "cell_type": "markdown",
   "metadata": {},
   "source": [
    "<h4>Declaração de Variáveis e Visualização dos Dados</h4>"
   ]
  },
  {
   "cell_type": "code",
   "execution_count": 22,
   "metadata": {},
   "outputs": [
    {
     "name": "stdout",
     "output_type": "stream",
     "text": [
      "╒════════════╤════════════╤══════════╤══════════╤══════════╤══════════╤══════════╤══════════╤══════════╤══════════╤══════════╤═══════════╤═══════════╤═══════════╤═══════════╤═══════════╤═══════════╕\n",
      "│   Concurso │ Data       │   bola 1 │   bola 2 │   bola 3 │   bola 4 │   bola 5 │   bola 6 │   bola 7 │   bola 8 │   bola 9 │   bola 10 │   bola 11 │   bola 12 │   bola 13 │   bola 14 │   bola 15 │\n",
      "╞════════════╪════════════╪══════════╪══════════╪══════════╪══════════╪══════════╪══════════╪══════════╪══════════╪══════════╪═══════════╪═══════════╪═══════════╪═══════════╪═══════════╪═══════════╡\n",
      "│       2609 │ 26/08/2022 │       18 │       11 │        3 │        9 │       21 │       24 │        5 │        6 │       20 │        15 │        12 │        25 │        19 │        17 │         7 │\n",
      "├────────────┼────────────┼──────────┼──────────┼──────────┼──────────┼──────────┼──────────┼──────────┼──────────┼──────────┼───────────┼───────────┼───────────┼───────────┼───────────┼───────────┤\n",
      "│       2608 │ 25/08/2022 │        4 │        8 │       18 │        1 │       11 │        2 │       25 │       24 │       19 │         9 │        12 │        14 │        17 │        15 │        23 │\n",
      "├────────────┼────────────┼──────────┼──────────┼──────────┼──────────┼──────────┼──────────┼──────────┼──────────┼──────────┼───────────┼───────────┼───────────┼───────────┼───────────┼───────────┤\n",
      "│       2607 │ 24/08/2022 │        7 │        1 │       25 │       10 │       23 │       14 │       24 │        3 │       22 │         8 │        17 │         9 │        18 │         5 │        16 │\n",
      "├────────────┼────────────┼──────────┼──────────┼──────────┼──────────┼──────────┼──────────┼──────────┼──────────┼──────────┼───────────┼───────────┼───────────┼───────────┼───────────┼───────────┤\n",
      "│       2606 │ 23/08/2022 │        7 │        3 │        9 │       21 │       18 │        6 │       19 │       11 │       24 │        23 │        20 │         8 │        10 │        16 │        14 │\n",
      "├────────────┼────────────┼──────────┼──────────┼──────────┼──────────┼──────────┼──────────┼──────────┼──────────┼──────────┼───────────┼───────────┼───────────┼───────────┼───────────┼───────────┤\n",
      "│       2605 │ 22/08/2022 │       25 │       23 │       22 │        2 │       11 │        5 │       12 │       16 │        7 │         1 │        19 │        15 │        24 │        21 │         9 │\n",
      "├────────────┼────────────┼──────────┼──────────┼──────────┼──────────┼──────────┼──────────┼──────────┼──────────┼──────────┼───────────┼───────────┼───────────┼───────────┼───────────┼───────────┤\n",
      "│       2604 │ 20/08/2022 │       13 │       22 │       12 │        7 │       16 │       23 │        5 │        6 │        9 │        19 │        14 │        15 │        20 │         4 │        18 │\n",
      "├────────────┼────────────┼──────────┼──────────┼──────────┼──────────┼──────────┼──────────┼──────────┼──────────┼──────────┼───────────┼───────────┼───────────┼───────────┼───────────┼───────────┤\n",
      "│       2603 │ 19/08/2022 │        5 │       20 │       25 │       17 │        3 │        7 │       21 │        2 │       19 │        11 │        24 │        15 │        13 │         9 │        10 │\n",
      "├────────────┼────────────┼──────────┼──────────┼──────────┼──────────┼──────────┼──────────┼──────────┼──────────┼──────────┼───────────┼───────────┼───────────┼───────────┼───────────┼───────────┤\n",
      "│       2602 │ 18/08/2022 │       20 │        3 │       11 │        8 │        5 │        2 │        6 │       16 │       10 │        23 │        19 │        12 │        18 │         1 │         4 │\n",
      "├────────────┼────────────┼──────────┼──────────┼──────────┼──────────┼──────────┼──────────┼──────────┼──────────┼──────────┼───────────┼───────────┼───────────┼───────────┼───────────┼───────────┤\n",
      "│       2601 │ 17/08/2022 │       13 │       17 │        1 │       23 │        7 │       22 │       16 │        3 │       15 │        24 │        20 │         5 │        21 │         6 │         4 │\n",
      "├────────────┼────────────┼──────────┼──────────┼──────────┼──────────┼──────────┼──────────┼──────────┼──────────┼──────────┼───────────┼───────────┼───────────┼───────────┼───────────┼───────────┤\n",
      "│       2600 │ 16/08/2022 │       25 │       12 │       10 │       14 │        7 │       23 │        5 │       24 │       15 │        16 │         9 │         2 │        18 │        11 │        22 │\n",
      "╘════════════╧════════════╧══════════╧══════════╧══════════╧══════════╧══════════╧══════════╧══════════╧══════════╧══════════╧═══════════╧═══════════╧═══════════╧═══════════╧═══════════╧═══════════╛\n"
     ]
    }
   ],
   "source": [
    "from Neuraline.Utilities.data import DataTable, DataExploration # importação das classes\n",
    "data_table, data_exploration = DataTable(), DataExploration() # instanciação dos objetos\n",
    "# declaração das variáveis de endereçamento e dos títulos das colunas que serão utilizadas na análise\n",
    "url_path, sheet_name, url_description, url_save = './loto_facil.xlsx', 'lotofacil_www.asloterias.com.br', './description.xlsx', './jogos.csv'\n",
    "titles = ['bola 1', 'bola 2', 'bola 3', 'bola 4', 'bola 5', 'bola 6', 'bola 7', 'bola 8', 'bola 9', 'bola 10', 'bola 11', 'bola 12', 'bola 13', 'bola 14', 'bola 15']\n",
    "result = data_table.visualization_excel_inline(url_path, sheet_name=sheet_name, limit=10) # visualização da estrutura do arquivo de dados"
   ]
  },
  {
   "cell_type": "markdown",
   "metadata": {},
   "source": [
    "<h4>Exploração e Análise dos Dados (somente para as 10 primeiras linhas)</h4>"
   ]
  },
  {
   "cell_type": "code",
   "execution_count": 23,
   "metadata": {},
   "outputs": [
    {
     "name": "stdout",
     "output_type": "stream",
     "text": [
      "╒══════════╤═══════════╤═══════════╤═══════════╤═════════════════════╤══════════════════════╤═════════════╤═════════╤═════════════╤════════╤═════════╕\n",
      "│ column   │   minimum │   maximum │   average │   lowest_repetition │   highest_repetition │   negatives │   zeros │   positives │   null │   empty │\n",
      "╞══════════╪═══════════╪═══════════╪═══════════╪═════════════════════╪══════════════════════╪═════════════╪═════════╪═════════════╪════════╪═════════╡\n",
      "│ bola 1   │         1 │        25 │   13.0824 │                  17 │                    1 │           0 │       0 │        2609 │      0 │       0 │\n",
      "├──────────┼───────────┼───────────┼───────────┼─────────────────────┼──────────────────────┼─────────────┼─────────┼─────────────┼────────┼─────────┤\n",
      "│ bola 2   │         1 │        25 │   12.8896 │                   5 │                   15 │           0 │       0 │        2609 │      0 │       0 │\n",
      "├──────────┼───────────┼───────────┼───────────┼─────────────────────┼──────────────────────┼─────────────┼─────────┼─────────────┼────────┼─────────┤\n",
      "│ bola 3   │         1 │        25 │   12.9954 │                   6 │                   12 │           0 │       0 │        2609 │      0 │       0 │\n",
      "├──────────┼───────────┼───────────┼───────────┼─────────────────────┼──────────────────────┼─────────────┼─────────┼─────────────┼────────┼─────────┤\n",
      "│ bola 4   │         1 │        25 │   13.0414 │                   9 │                    5 │           0 │       0 │        2609 │      0 │       0 │\n",
      "├──────────┼───────────┼───────────┼───────────┼─────────────────────┼──────────────────────┼─────────────┼─────────┼─────────────┼────────┼─────────┤\n",
      "│ bola 5   │         1 │        25 │   12.9241 │                  18 │                    5 │           0 │       0 │        2609 │      0 │       0 │\n",
      "├──────────┼───────────┼───────────┼───────────┼─────────────────────┼──────────────────────┼─────────────┼─────────┼─────────────┼────────┼─────────┤\n",
      "│ bola 6   │         1 │        25 │   13.2775 │                  16 │                   17 │           0 │       0 │        2609 │      0 │       0 │\n",
      "├──────────┼───────────┼───────────┼───────────┼─────────────────────┼──────────────────────┼─────────────┼─────────┼─────────────┼────────┼─────────┤\n",
      "│ bola 7   │         1 │        25 │   13.023  │                   4 │                    3 │           0 │       0 │        2609 │      0 │       0 │\n",
      "├──────────┼───────────┼───────────┼───────────┼─────────────────────┼──────────────────────┼─────────────┼─────────┼─────────────┼────────┼─────────┤\n",
      "│ bola 8   │         1 │        25 │   12.8731 │                  19 │                    9 │           0 │       0 │        2609 │      0 │       0 │\n",
      "├──────────┼───────────┼───────────┼───────────┼─────────────────────┼──────────────────────┼─────────────┼─────────┼─────────────┼────────┼─────────┤\n",
      "│ bola 9   │         1 │        25 │   12.99   │                  16 │                   20 │           0 │       0 │        2609 │      0 │       0 │\n",
      "├──────────┼───────────┼───────────┼───────────┼─────────────────────┼──────────────────────┼─────────────┼─────────┼─────────────┼────────┼─────────┤\n",
      "│ bola 10  │         1 │        25 │   12.9195 │                  22 │                    2 │           0 │       0 │        2609 │      0 │       0 │\n",
      "╘══════════╧═══════════╧═══════════╧═══════════╧═════════════════════╧══════════════════════╧═════════════╧═════════╧═════════════╧════════╧═════════╛\n"
     ]
    }
   ],
   "source": [
    "data_exploration.describeExcel(url_path, titles=titles, sheet_name=sheet_name) # cria a tabela de resultados estatísticos\n",
    "result = data_table.visualization_excel_inline(url_description, sheet_name=sheet_name, limit=10) # visualiza as 10 primeiras linhas do arquivo gerado"
   ]
  },
  {
   "cell_type": "markdown",
   "metadata": {},
   "source": [
    "<h4>Treinamento e Predição do Modelo com Geração do Arquivo CSV</h4>"
   ]
  },
  {
   "cell_type": "code",
   "execution_count": 24,
   "metadata": {},
   "outputs": [
    {
     "name": "stdout",
     "output_type": "stream",
     "text": [
      "training progress............................: 001.000000%\n",
      "training progress............................: 050.000000%\n",
      "training progress............................: 090.000000%\n",
      "training progress............................: 100.000000%\n",
      "prediction progress..........................: 025.000000%\n",
      "prediction progress..........................: 050.000000%\n",
      "prediction progress..........................: 075.000000%\n",
      "prediction progress..........................: 100.000000%\n"
     ]
    }
   ],
   "source": [
    "from Neuraline.ArtificialIntelligence.MachineLearning.AutonomousLearning.markov_chain import MarkovChain # importação da classe de Markov\n",
    "markov_chain = MarkovChain(progress=True) # progress=True: habilita a exibição do progresso do treinamento e da predição\n",
    "\n",
    "inputs = data_table.read_excel(url_path, titles=titles, sheet_name=sheet_name, limit=365) # leitura dos resultados históricos do ano\n",
    "markov_chain.fit(inputs=inputs) # treinamento do modelo\n",
    "\n",
    "outputs = markov_chain.predict(predictions=10)\n",
    "# código para eliminar números repetidos do sorteio\n",
    "maximum_column = data_table.read_excel(url_description, titles=['maximum'], sheet_name=sheet_name) # captura os valores da coluna maximum\n",
    "maximum = max([x[0] for x in maximum_column]) # percorre a lista bidimensional para convertê-la em unidimensional e extrai o maior valor da lista\n",
    "middle = maximum/2 # calcula a metade do limite numérico\n",
    "temp_outputs = [] # lista de saídas temporárias\n",
    "for output in outputs: # percorre a lista de resultados preditivos\n",
    "    temp_output = [] # saída temporária\n",
    "    for number in output: # percorre o resultado preditivo\n",
    "        if number not in temp_output: temp_output.append(number) # se o número não constar na lista de saída temporária então será inserido\n",
    "        else: # se o número já existir na lista de saída temporária uma nova avaliação é feita\n",
    "            # condicional para evitar que os novos números não excedam os limites mínimo e máximo do sorteio\n",
    "            if number < middle: number+=1 # se o número for menor que a metade então soma 1\n",
    "            else: number-=1 # se o número for maior ou igual a metade então subtrai 1\n",
    "            if number not in temp_output: temp_output.append(number) # se o novo número não constar na lista de saída temporária então será inserido\n",
    "            else: # se o novo número já existir na lista de saída temporária uma nova avaliação será feita\n",
    "                for n in range(1, maximum+1): # loop de 1 até o número máximo permitido pelo sorteio\n",
    "                    if n not in temp_output: # verifica se um dos números possíveis não consta na lista de saída temporária\n",
    "                        temp_output.append(n) # ao encontrar um número que não conste na lista de saída temporária ele será inserido\n",
    "                        break # encerra o loop quando o primeiro número inédito for encontrado\n",
    "    temp_outputs.append(sorted(temp_output)) # insere a saída temporária na lista de saídas temporárias\n",
    "outputs = temp_outputs # atualiza a lista de resultados preditivos com os valores ordenados sem repetição  \n",
    "\n",
    "result = data_table.generation_csv(url_save, titles=titles, data=outputs) # geração do arquivo de resultados"
   ]
  },
  {
   "cell_type": "markdown",
   "metadata": {},
   "source": [
    "<h4>Leitura e Visualização do Arquivo de Resultados</h4>"
   ]
  },
  {
   "cell_type": "code",
   "execution_count": 26,
   "metadata": {},
   "outputs": [
    {
     "name": "stdout",
     "output_type": "stream",
     "text": [
      "╒══════════╤══════════╤══════════╤══════════╤══════════╤══════════╤══════════╤══════════╤══════════╤═══════════╤═══════════╤═══════════╤═══════════╤═══════════╤═══════════╕\n",
      "│   bola 1 │   bola 2 │   bola 3 │   bola 4 │   bola 5 │   bola 6 │   bola 7 │   bola 8 │   bola 9 │   bola 10 │   bola 11 │   bola 12 │   bola 13 │   bola 14 │   bola 15 │\n",
      "╞══════════╪══════════╪══════════╪══════════╪══════════╪══════════╪══════════╪══════════╪══════════╪═══════════╪═══════════╪═══════════╪═══════════╪═══════════╪═══════════╡\n",
      "│        1 │        2 │        3 │        4 │        5 │        6 │        7 │        8 │        9 │        10 │        11 │        12 │        13 │        24 │        25 │\n",
      "├──────────┼──────────┼──────────┼──────────┼──────────┼──────────┼──────────┼──────────┼──────────┼───────────┼───────────┼───────────┼───────────┼───────────┼───────────┤\n",
      "│        1 │        2 │        3 │        5 │        7 │        8 │        9 │       10 │       11 │        12 │        13 │        14 │        16 │        19 │        20 │\n",
      "├──────────┼──────────┼──────────┼──────────┼──────────┼──────────┼──────────┼──────────┼──────────┼───────────┼───────────┼───────────┼───────────┼───────────┼───────────┤\n",
      "│        1 │        2 │        3 │        4 │        5 │        6 │        7 │        8 │        9 │        10 │        14 │        18 │        19 │        20 │        25 │\n",
      "├──────────┼──────────┼──────────┼──────────┼──────────┼──────────┼──────────┼──────────┼──────────┼───────────┼───────────┼───────────┼───────────┼───────────┼───────────┤\n",
      "│        1 │        2 │        3 │        4 │        5 │        6 │        7 │        8 │        9 │        10 │        11 │        12 │        13 │        21 │        22 │\n",
      "├──────────┼──────────┼──────────┼──────────┼──────────┼──────────┼──────────┼──────────┼──────────┼───────────┼───────────┼───────────┼───────────┼───────────┼───────────┤\n",
      "│        1 │        2 │        3 │        4 │        5 │        6 │        7 │        8 │        9 │        15 │        16 │        18 │        19 │        21 │        22 │\n",
      "├──────────┼──────────┼──────────┼──────────┼──────────┼──────────┼──────────┼──────────┼──────────┼───────────┼───────────┼───────────┼───────────┼───────────┼───────────┤\n",
      "│        1 │        2 │        3 │        4 │        5 │        6 │        7 │        8 │        9 │        10 │        12 │        13 │        15 │        16 │        20 │\n",
      "├──────────┼──────────┼──────────┼──────────┼──────────┼──────────┼──────────┼──────────┼──────────┼───────────┼───────────┼───────────┼───────────┼───────────┼───────────┤\n",
      "│        1 │        2 │        3 │        4 │        5 │        6 │        9 │       10 │       11 │        12 │        13 │        19 │        20 │        24 │        25 │\n",
      "├──────────┼──────────┼──────────┼──────────┼──────────┼──────────┼──────────┼──────────┼──────────┼───────────┼───────────┼───────────┼───────────┼───────────┼───────────┤\n",
      "│        1 │        2 │        3 │        4 │        5 │        9 │       10 │       12 │       16 │        17 │        20 │        22 │        23 │        24 │        25 │\n",
      "├──────────┼──────────┼──────────┼──────────┼──────────┼──────────┼──────────┼──────────┼──────────┼───────────┼───────────┼───────────┼───────────┼───────────┼───────────┤\n",
      "│        1 │        2 │        3 │        4 │        5 │        6 │        7 │        9 │       11 │        12 │        13 │        14 │        16 │        19 │        20 │\n",
      "├──────────┼──────────┼──────────┼──────────┼──────────┼──────────┼──────────┼──────────┼──────────┼───────────┼───────────┼───────────┼───────────┼───────────┼───────────┤\n",
      "│        1 │        2 │        3 │        4 │        5 │        6 │        7 │        8 │       11 │        12 │        13 │        19 │        20 │        24 │        25 │\n",
      "╘══════════╧══════════╧══════════╧══════════╧══════════╧══════════╧══════════╧══════════╧══════════╧═══════════╧═══════════╧═══════════╧═══════════╧═══════════╧═══════════╛\n"
     ]
    }
   ],
   "source": [
    "result = data_table.visualization_csv_inline(url_save) # visualização do arquivo de resultados"
   ]
  }
 ],
 "metadata": {
  "kernelspec": {
   "display_name": "Python 3.10.4 64-bit",
   "language": "python",
   "name": "python3"
  },
  "language_info": {
   "codemirror_mode": {
    "name": "ipython",
    "version": 3
   },
   "file_extension": ".py",
   "mimetype": "text/x-python",
   "name": "python",
   "nbconvert_exporter": "python",
   "pygments_lexer": "ipython3",
   "version": "3.10.4"
  },
  "orig_nbformat": 4,
  "vscode": {
   "interpreter": {
    "hash": "916dbcbb3f70747c44a77c7bcd40155683ae19c65e1c03b4aa3499c5328201f1"
   }
  }
 },
 "nbformat": 4,
 "nbformat_minor": 2
}
