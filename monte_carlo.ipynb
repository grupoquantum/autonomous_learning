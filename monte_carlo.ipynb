{
 "cells": [
  {
   "cell_type": "markdown",
   "metadata": {},
   "source": [
    "<h3>Monte Carlo</h3>\n",
    "<p>Monte Carlo é uma técnica matemática criada durante o projeto Manhattan (projeto de construção da bomba atômica) para simular problemas de natureza probabilística que possam resultar em dados estocásticos/aleatórios. É muito utilizado na Física, Matemática, Economia e Teoria dos Jogos para gerar resultados aleatórios que respeitem o mesmo padrão da amostra de dados. Por ter como foco resultados aleatórios como os de jogos de azar, foi batizado com este nome em homenagem a uma conhecida cidade de casinos em Mônaco.  Em Inteligência Artificial geralmente é utilizado para criar novas amostras para bases de dados com poucos registros ou registros insuficientes.</p>"
   ]
  },
  {
   "cell_type": "markdown",
   "metadata": {},
   "source": [
    "<h4>Algoritmo de Monte Carlo para a geração de novos dados baseados na amostra de entrada.</h4>"
   ]
  },
  {
   "cell_type": "code",
   "execution_count": 20,
   "metadata": {},
   "outputs": [
    {
     "name": "stdout",
     "output_type": "stream",
     "text": [
      "[[13, 8], [3, 6], [15, 14], [13, 8], [3, 8], [3, 4], [13, 8], [9, 8], [7, 8], [1, 2]]\n"
     ]
    }
   ],
   "source": [
    "from Neuraline.ArtificialIntelligence.MachineLearning.AutonomousLearning.monte_carlo import MonteCarlo\n",
    "monte_carlo = MonteCarlo()\n",
    "\n",
    "inputs = [[1, 2], [3, 4], [5, 6], [7, 8], [9, 10], [11, 12], [13, 14], [15, 16], [17, 18], [19, 20]]\n",
    "outputs = [[3], [7], [11], [15], [19], [23], [27], [31], [35], [39]]\n",
    "monte_carlo.fit(inputs=inputs)\n",
    "new_inputs = monte_carlo.predict(predictions=10)\n",
    "print(new_inputs)"
   ]
  },
  {
   "cell_type": "code",
   "execution_count": 24,
   "metadata": {},
   "outputs": [
    {
     "name": "stdout",
     "output_type": "stream",
     "text": [
      "[[11, 14], [5, 6], [3, 12], [5, 8], [13, 12], [17, 10], [13, 16], [5, 8], [7, 6], [19, 6]]\n"
     ]
    }
   ],
   "source": [
    "from Neuraline.ArtificialIntelligence.MachineLearning.AutonomousLearning.monte_carlo import MonteCarlo\n",
    "monte_carlo = MonteCarlo()\n",
    "\n",
    "inputs = [[1, 2], [3, 4], [5, 6], [7, 8], [9, 10], [11, 12], [13, 14], [15, 16], [17, 18], [19, 20]]\n",
    "outputs = [[3], [7], [11], [15], [19], [23], [27], [31], [35], [39]]\n",
    "new_inputs = monte_carlo.fitPredict(inputs=inputs, predictions=10)\n",
    "print(new_inputs)"
   ]
  },
  {
   "cell_type": "markdown",
   "metadata": {},
   "source": [
    "<h4>Método de Monte Carlo para a geração de novos dados baseados na amostra de entrada.</h4>"
   ]
  },
  {
   "cell_type": "code",
   "execution_count": 21,
   "metadata": {},
   "outputs": [
    {
     "name": "stdout",
     "output_type": "stream",
     "text": [
      "[[19, 16], [17, 6], [3, 4], [7, 4], [3, 4], [15, 4], [9, 20], [13, 10], [19, 14], [9, 18]]\n"
     ]
    }
   ],
   "source": [
    "from Neuraline.ArtificialIntelligence.MachineLearning.AutonomousLearning.monte_carlo import MonteCarlo\n",
    "monte_carlo = MonteCarlo()\n",
    "\n",
    "inputs = [[1, 2], [3, 4], [5, 6], [7, 8], [9, 10], [11, 12], [13, 14], [15, 16], [17, 18], [19, 20]]\n",
    "monte_carlo.fit(inputs=inputs)\n",
    "new_inputs = monte_carlo.method(predictions=10)\n",
    "print(new_inputs)"
   ]
  },
  {
   "cell_type": "markdown",
   "metadata": {},
   "source": [
    "<h4>Simulação de Monte Carlo para a geração de novos dados de entrada e saída.</h4>"
   ]
  },
  {
   "cell_type": "code",
   "execution_count": 23,
   "metadata": {},
   "outputs": [
    {
     "name": "stdout",
     "output_type": "stream",
     "text": [
      "[[13, 16], [3, 20], [15, 18], [7, 4], [5, 20], [15, 4], [17, 10], [19, 14], [19, 20], [9, 16]]\n",
      "[[29], [23], [33], [11], [25], [19], [27], [33], [39], [25]]\n"
     ]
    }
   ],
   "source": [
    "from Neuraline.ArtificialIntelligence.MachineLearning.AutonomousLearning.monte_carlo import MonteCarlo\n",
    "monte_carlo = MonteCarlo()\n",
    "\n",
    "inputs = [[1, 2], [3, 4], [5, 6], [7, 8], [9, 10], [11, 12], [13, 14], [15, 16], [17, 18], [19, 20]]\n",
    "outputs = [[3], [7], [11], [15], [19], [23], [27], [31], [35], [39]]\n",
    "monte_carlo.fit(inputs=inputs, outputs=outputs)\n",
    "new_inputs, new_outputs = monte_carlo.simulation(predictions=10)\n",
    "print(new_inputs)\n",
    "print(new_outputs)"
   ]
  }
 ],
 "metadata": {
  "kernelspec": {
   "display_name": "Python 3.10.4 64-bit",
   "language": "python",
   "name": "python3"
  },
  "language_info": {
   "codemirror_mode": {
    "name": "ipython",
    "version": 3
   },
   "file_extension": ".py",
   "mimetype": "text/x-python",
   "name": "python",
   "nbconvert_exporter": "python",
   "pygments_lexer": "ipython3",
   "version": "3.10.4"
  },
  "orig_nbformat": 4,
  "vscode": {
   "interpreter": {
    "hash": "916dbcbb3f70747c44a77c7bcd40155683ae19c65e1c03b4aa3499c5328201f1"
   }
  }
 },
 "nbformat": 4,
 "nbformat_minor": 2
}
