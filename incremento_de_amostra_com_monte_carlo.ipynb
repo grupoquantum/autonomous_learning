{
 "cells": [
  {
   "cell_type": "markdown",
   "metadata": {},
   "source": [
    "<h3>Incremento da Amostra de Dados com Simulação de Monte Carlo</h3>"
   ]
  },
  {
   "cell_type": "markdown",
   "metadata": {},
   "source": [
    "<h4>Declaração de Variáveis</h4>"
   ]
  },
  {
   "cell_type": "code",
   "execution_count": 69,
   "metadata": {},
   "outputs": [],
   "source": [
    "from Neuraline.Utilities.data import DataTable, DataExploration, ConvertData\n",
    "from Neuraline.Utilities.chart import Chart\n",
    "data_table, data_exploration, convert_data, chart = DataTable(), DataExploration(), ConvertData(), Chart()\n",
    "url_path, url_save = './iris_original.json', './iris_atualizado.json'\n",
    "list_inputs, list_outputs = ['sepalLength', 'sepalWidth', 'petalLength', 'petalWidth'], ['species']"
   ]
  },
  {
   "cell_type": "markdown",
   "metadata": {},
   "source": [
    "<h4>Exploração e Visualização dos Dados</h4>"
   ]
  },
  {
   "cell_type": "code",
   "execution_count": 70,
   "metadata": {},
   "outputs": [
    {
     "name": "stdout",
     "output_type": "stream",
     "text": [
      "╒═══════════════╤══════════════╤═══════════════╤══════════════╤═══════════╕\n",
      "│   sepalLength │   sepalWidth │   petalLength │   petalWidth │ species   │\n",
      "╞═══════════════╪══════════════╪═══════════════╪══════════════╪═══════════╡\n",
      "│           5.1 │          3.5 │           1.4 │          0.2 │ setosa    │\n",
      "├───────────────┼──────────────┼───────────────┼──────────────┼───────────┤\n",
      "│           4.9 │          3   │           1.4 │          0.2 │ setosa    │\n",
      "├───────────────┼──────────────┼───────────────┼──────────────┼───────────┤\n",
      "│           4.7 │          3.2 │           1.3 │          0.2 │ setosa    │\n",
      "├───────────────┼──────────────┼───────────────┼──────────────┼───────────┤\n",
      "│           4.6 │          3.1 │           1.5 │          0.2 │ setosa    │\n",
      "├───────────────┼──────────────┼───────────────┼──────────────┼───────────┤\n",
      "│           5   │          3.6 │           1.4 │          0.2 │ setosa    │\n",
      "├───────────────┼──────────────┼───────────────┼──────────────┼───────────┤\n",
      "│           5.4 │          3.9 │           1.7 │          0.4 │ setosa    │\n",
      "├───────────────┼──────────────┼───────────────┼──────────────┼───────────┤\n",
      "│           4.6 │          3.4 │           1.4 │          0.3 │ setosa    │\n",
      "├───────────────┼──────────────┼───────────────┼──────────────┼───────────┤\n",
      "│           5   │          3.4 │           1.5 │          0.2 │ setosa    │\n",
      "├───────────────┼──────────────┼───────────────┼──────────────┼───────────┤\n",
      "│           4.4 │          2.9 │           1.4 │          0.2 │ setosa    │\n",
      "├───────────────┼──────────────┼───────────────┼──────────────┼───────────┤\n",
      "│           4.9 │          3.1 │           1.5 │          0.1 │ setosa    │\n",
      "╘═══════════════╧══════════════╧═══════════════╧══════════════╧═══════════╛\n",
      "species: ['virginica', 'versicolor', 'setosa'] - indexes [0, 1, 2]\n"
     ]
    }
   ],
   "source": [
    "result = data_table.visualization_json_inline(url_path, limit=10)\n",
    "labels = data_exploration.getOutputTypesJSON(url_path=url_path, output_column='species')\n",
    "indexes = [i for i, _ in enumerate(labels)]\n",
    "print(f'species: {labels} - indexes {indexes}')"
   ]
  },
  {
   "cell_type": "markdown",
   "metadata": {},
   "source": [
    "<h4>Substituição das Categorias de Texto para Número</h4>"
   ]
  },
  {
   "cell_type": "code",
   "execution_count": 71,
   "metadata": {},
   "outputs": [
    {
     "name": "stdout",
     "output_type": "stream",
     "text": [
      "╒═══════════════╤══════════════╤═══════════════╤══════════════╤═══════════╕\n",
      "│   sepalLength │   sepalWidth │   petalLength │   petalWidth │   species │\n",
      "╞═══════════════╪══════════════╪═══════════════╪══════════════╪═══════════╡\n",
      "│           5.1 │          3.5 │           1.4 │          0.2 │         2 │\n",
      "├───────────────┼──────────────┼───────────────┼──────────────┼───────────┤\n",
      "│           4.9 │          3   │           1.4 │          0.2 │         2 │\n",
      "├───────────────┼──────────────┼───────────────┼──────────────┼───────────┤\n",
      "│           4.7 │          3.2 │           1.3 │          0.2 │         2 │\n",
      "├───────────────┼──────────────┼───────────────┼──────────────┼───────────┤\n",
      "│           4.6 │          3.1 │           1.5 │          0.2 │         2 │\n",
      "├───────────────┼──────────────┼───────────────┼──────────────┼───────────┤\n",
      "│           5   │          3.6 │           1.4 │          0.2 │         2 │\n",
      "├───────────────┼──────────────┼───────────────┼──────────────┼───────────┤\n",
      "│           5.4 │          3.9 │           1.7 │          0.4 │         2 │\n",
      "├───────────────┼──────────────┼───────────────┼──────────────┼───────────┤\n",
      "│           4.6 │          3.4 │           1.4 │          0.3 │         2 │\n",
      "├───────────────┼──────────────┼───────────────┼──────────────┼───────────┤\n",
      "│           5   │          3.4 │           1.5 │          0.2 │         2 │\n",
      "├───────────────┼──────────────┼───────────────┼──────────────┼───────────┤\n",
      "│           4.4 │          2.9 │           1.4 │          0.2 │         2 │\n",
      "├───────────────┼──────────────┼───────────────┼──────────────┼───────────┤\n",
      "│           4.9 │          3.1 │           1.5 │          0.1 │         2 │\n",
      "╘═══════════════╧══════════════╧═══════════════╧══════════════╧═══════════╛\n"
     ]
    }
   ],
   "source": [
    "str_csv = convert_data.readTEXT(url_path)\n",
    "for i, label in enumerate(labels): str_csv = str_csv.replace(label, str(i))\n",
    "convert_data.writeTEXT(text=str_csv, url_path=url_save)\n",
    "result = data_table.visualization_json_inline(url_save, limit=10)"
   ]
  },
  {
   "cell_type": "markdown",
   "metadata": {},
   "source": [
    "<h4>Separação dos Dados entre Treinamento e Teste</h4>"
   ]
  },
  {
   "cell_type": "code",
   "execution_count": 74,
   "metadata": {},
   "outputs": [
    {
     "name": "stdout",
     "output_type": "stream",
     "text": [
      "inputs_train: 120 - outputs_train: 120\n"
     ]
    }
   ],
   "source": [
    "inputs_train, outputs_train, inputs_test, outputs_test = data_exploration \\\n",
    ".dataSeparationJSON(url_path=url_save, list_inputs=list_inputs, list_outputs=list_outputs, training_percentage=.8, test_percentage=.2)\n",
    "# conferindo o tamanho da amostra antes da simulação de monte carlo\n",
    "print(f'inputs_train: {len(inputs_train)} - outputs_train: {len(outputs_train)}')"
   ]
  },
  {
   "cell_type": "markdown",
   "metadata": {},
   "source": [
    "<h4>Incrementando a Amostra de Treinamento com a Simulação de Monte Carlo</h4>"
   ]
  },
  {
   "cell_type": "code",
   "execution_count": 78,
   "metadata": {},
   "outputs": [
    {
     "name": "stdout",
     "output_type": "stream",
     "text": [
      "inputs_train: 240 - outputs_train: 240\n"
     ]
    }
   ],
   "source": [
    "from Neuraline.ArtificialIntelligence.MachineLearning.AutonomousLearning.monte_carlo import MonteCarlo\n",
    "monte_carlo = MonteCarlo()\n",
    "\n",
    "monte_carlo.fit(inputs=inputs_train, outputs=outputs_train)\n",
    "new_inputs, new_outputs = monte_carlo.simulation(predictions=120)\n",
    "inputs_train, outputs_train = inputs_train+new_inputs, outputs_train+new_outputs\n",
    "# conferindo o tamanho da amostra depois da simulação de monte carlo\n",
    "print(f'inputs_train: {len(inputs_train)} - outputs_train: {len(outputs_train)}')"
   ]
  },
  {
   "cell_type": "markdown",
   "metadata": {},
   "source": [
    "<h4>Execução do Treinamento e Teste da Rede Neural</h4>"
   ]
  },
  {
   "cell_type": "code",
   "execution_count": 81,
   "metadata": {},
   "outputs": [
    {
     "name": "stdout",
     "output_type": "stream",
     "text": [
      "epoch...............................: 1 - loss: 0.80000000\n",
      "epoch...............................: 2 - loss: 0.60000000\n",
      "epoch...............................: 3 - loss: 0.40000000\n",
      "epoch...............................: 4 - loss: 0.20000000\n",
      "epoch...............................: 5 - loss: 0.00000000\n"
     ]
    },
    {
     "data": {
      "image/png": "[encoded data removed]",
      "text/plain": [
       "<Figure size 576x288 with 1 Axes>"
      ]
     },
     "metadata": {
      "needs_background": "light"
     },
     "output_type": "display_data"
    },
    {
     "name": "stdout",
     "output_type": "stream",
     "text": [
      "acertos: 0.9 - erros: 0.09999999999999998\n"
     ]
    }
   ],
   "source": [
    "from Neuraline.ArtificialIntelligence.DeepLearning.neural_network import NeuralNetwork\n",
    "net = NeuralNetwork()\n",
    "net.fit(inputs=inputs_train, outputs=outputs_train, epochs=5, show_error=True)\n",
    "result_test = net.test(inputs=inputs_test, outputs=outputs_test)\n",
    "x, y = list(result_test.keys()), [y*100 for y in list(result_test.values())]\n",
    "chart.plotBAR(x=x, y=y, x_label='Acertos VS Erros', y_label='Percentual %', title='Teste de Assertividade', bar_values=True)\n",
    "assertiveness, error = result_test['assertiveness'], result_test['error']\n",
    "print(f'acertos: {assertiveness} - erros: {error}')"
   ]
  },
  {
   "cell_type": "markdown",
   "metadata": {},
   "source": [
    "<h4>Salvamento do Modelo com o Melhor Resultado</h4>"
   ]
  },
  {
   "cell_type": "code",
   "execution_count": 80,
   "metadata": {},
   "outputs": [
    {
     "data": {
      "text/plain": [
       "True"
      ]
     },
     "execution_count": 80,
     "metadata": {},
     "output_type": "execute_result"
    }
   ],
   "source": [
    "net.saveModel('melhor_resultado')"
   ]
  }
 ],
 "metadata": {
  "kernelspec": {
   "display_name": "Python 3.10.4 64-bit",
   "language": "python",
   "name": "python3"
  },
  "language_info": {
   "codemirror_mode": {
    "name": "ipython",
    "version": 3
   },
   "file_extension": ".py",
   "mimetype": "text/x-python",
   "name": "python",
   "nbconvert_exporter": "python",
   "pygments_lexer": "ipython3",
   "version": "3.10.4"
  },
  "orig_nbformat": 4,
  "vscode": {
   "interpreter": {
    "hash": "916dbcbb3f70747c44a77c7bcd40155683ae19c65e1c03b4aa3499c5328201f1"
   }
  }
 },
 "nbformat": 4,
 "nbformat_minor": 2
}
