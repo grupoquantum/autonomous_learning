{
 "cells": [
  {
   "cell_type": "markdown",
   "metadata": {},
   "source": [
    "<h3>Markov Chain/Cadeia de Markov/Rede de Markov</h3>"
   ]
  },
  {
   "cell_type": "markdown",
   "metadata": {},
   "source": [
    "<h4>Importação dos Módulos, Instanciação das Variáveis e Composição das Músicas</h4>"
   ]
  },
  {
   "cell_type": "code",
   "execution_count": 1,
   "metadata": {},
   "outputs": [],
   "source": [
    "from Neuraline.ArtificialIntelligence.MachineLearning.AutonomousLearning.markov_chain import MarkovChain\n",
    "from Neuraline.Utilities.data import ConvertData\n",
    "from Neuraline.Utilities.chart import Chart\n",
    "markov_chain, convert_data, chart = MarkovChain(), ConvertData(), Chart()\n",
    "# leitura dos arquivos com as listas de composições na pasta notes\n",
    "for i in range(1, 5):\n",
    "    result = markov_chain.addCompose(name=f'composicao{i}', notes=convert_data.readTEXT(f'./notes/composicao{i}.txt').split(','))"
   ]
  },
  {
   "cell_type": "markdown",
   "metadata": {},
   "source": [
    "<h4>Reprodução Musical da Composição Selecionada</h4>"
   ]
  },
  {
   "cell_type": "code",
   "execution_count": 2,
   "metadata": {},
   "outputs": [
    {
     "name": "stdout",
     "output_type": "stream",
     "text": [
      "playing...\n",
      "finished..\n"
     ]
    }
   ],
   "source": [
    "play_name, velocity = 'composicao1', 2\n",
    "result = markov_chain.playCompose(name=play_name, velocity=velocity)"
   ]
  },
  {
   "cell_type": "markdown",
   "metadata": {},
   "source": [
    "<h4>Geração de Composições Inéditas com Base nos Padrões Anteriores</h4>"
   ]
  },
  {
   "cell_type": "code",
   "execution_count": 4,
   "metadata": {},
   "outputs": [
    {
     "name": "stdout",
     "output_type": "stream",
     "text": [
      "prediction progress..........................: 000.000000%\n",
      "prediction progress..........................: 010.000000%\n",
      "prediction progress..........................: 020.000000%\n",
      "prediction progress..........................: 030.000000%\n",
      "prediction progress..........................: 040.000000%\n",
      "prediction progress..........................: 050.000000%\n",
      "prediction progress..........................: 060.000000%\n",
      "prediction progress..........................: 070.000000%\n",
      "prediction progress..........................: 080.000000%\n",
      "prediction progress..........................: 090.000000%\n",
      "prediction progress..........................: 100.000000%\n",
      "playing...\n",
      "finished..\n"
     ]
    },
    {
     "data": {
      "image/png": "[encoded data removed]",
      "text/plain": [
       "<Figure size 576x288 with 1 Axes>"
      ]
     },
     "metadata": {
      "needs_background": "light"
     },
     "output_type": "display_data"
    },
    {
     "name": "stdout",
     "output_type": "stream",
     "text": [
      "['ré', 'mi', 'sol', 'si', 'ré', 'mi', 'sol', 'si', 'ré', 'mi']\n"
     ]
    }
   ],
   "source": [
    "output_notes = markov_chain.markovMusicGenerator(vary=True, velocity=velocity, return_notes=True, play=True, progress=True)\n",
    "# plotagem gráfica do arquivo de áudio resultante\n",
    "chart.plotAUDIO('./predicted.wav')\n",
    "print(output_notes)"
   ]
  }
 ],
 "metadata": {
  "kernelspec": {
   "display_name": "Python 3.10.4 64-bit",
   "language": "python",
   "name": "python3"
  },
  "language_info": {
   "codemirror_mode": {
    "name": "ipython",
    "version": 3
   },
   "file_extension": ".py",
   "mimetype": "text/x-python",
   "name": "python",
   "nbconvert_exporter": "python",
   "pygments_lexer": "ipython3",
   "version": "3.10.4"
  },
  "orig_nbformat": 4,
  "vscode": {
   "interpreter": {
    "hash": "916dbcbb3f70747c44a77c7bcd40155683ae19c65e1c03b4aa3499c5328201f1"
   }
  }
 },
 "nbformat": 4,
 "nbformat_minor": 2
}
